{
 "cells": [
  {
   "cell_type": "markdown",
   "id": "bf2c889e-8e21-4489-b6be-350d5affa63c",
   "metadata": {},
   "source": [
    "# Introduction to Recommender Systems: Collaborive Filtering"
   ]
  },
  {
   "cell_type": "markdown",
   "id": "1fabdce1-626f-4d8b-a8cb-7b19f7e24240",
   "metadata": {},
   "source": [
    "[Reference](https://www.ethanrosenthal.com/2015/11/02/intro-to-collaborative-filtering/)"
   ]
  },
  {
   "cell_type": "markdown",
   "id": "c4e731e1-1c4e-4ed7-b7be-7d485e74b608",
   "metadata": {},
   "source": [
    "## Downloading The Data: MovieLens dataset"
   ]
  },
  {
   "cell_type": "code",
   "execution_count": 10,
   "id": "d8afb2f7-e547-4bae-925e-8864231226b0",
   "metadata": {},
   "outputs": [
    {
     "name": "stderr",
     "output_type": "stream",
     "text": [
      "  % Total    % Received % Xferd  Average Speed   Time    Time     Time  Current\n",
      "                                 Dload  Upload   Total   Spent    Left  Speed\n",
      "\n",
      "  0     0    0     0    0     0      0      0 --:--:-- --:--:-- --:--:--     0\n",
      "  0     0    0     0    0     0      0      0 --:--:-- --:--:-- --:--:--     0\n",
      "  0 4808k    0 20161    0     0  12808      0  0:06:24  0:00:01  0:06:23 12808\n",
      " 24 4808k   24 1163k    0     0   455k      0  0:00:10  0:00:02  0:00:08  455k\n",
      "100 4808k  100 4808k    0     0  1644k      0  0:00:02  0:00:02 --:--:-- 1643k\n"
     ]
    }
   ],
   "source": [
    "! curl -O http://files.grouplens.org/datasets/movielens/ml-100k.zip"
   ]
  },
  {
   "cell_type": "code",
   "execution_count": 13,
   "id": "6f013c72-e24c-4755-a89b-94bb250380a2",
   "metadata": {},
   "outputs": [],
   "source": [
    "with zipfile.ZipFile('ml-100k.zip', 'r') as zip_ref:\n",
    "    zip_ref.extractall('')"
   ]
  },
  {
   "cell_type": "markdown",
   "id": "661cc103-64cf-445d-9732-d36af086d1d3",
   "metadata": {},
   "source": [
    "## Loading The Data"
   ]
  },
  {
   "cell_type": "code",
   "execution_count": 15,
   "id": "1f5d5597-5a3b-41e1-9882-cb12b7f16838",
   "metadata": {},
   "outputs": [],
   "source": [
    "names = ['user_id', 'item_id', 'rating', 'timestamp']"
   ]
  },
  {
   "cell_type": "code",
   "execution_count": 27,
   "id": "66cb43c4-6916-4e35-a36f-690438c78f83",
   "metadata": {},
   "outputs": [
    {
     "data": {
      "text/html": [
       "<div>\n",
       "<style scoped>\n",
       "    .dataframe tbody tr th:only-of-type {\n",
       "        vertical-align: middle;\n",
       "    }\n",
       "\n",
       "    .dataframe tbody tr th {\n",
       "        vertical-align: top;\n",
       "    }\n",
       "\n",
       "    .dataframe thead th {\n",
       "        text-align: right;\n",
       "    }\n",
       "</style>\n",
       "<table border=\"1\" class=\"dataframe\">\n",
       "  <thead>\n",
       "    <tr style=\"text-align: right;\">\n",
       "      <th></th>\n",
       "      <th>user_id</th>\n",
       "      <th>item_id</th>\n",
       "      <th>rating</th>\n",
       "      <th>timestamp</th>\n",
       "    </tr>\n",
       "  </thead>\n",
       "  <tbody>\n",
       "    <tr>\n",
       "      <th>0</th>\n",
       "      <td>196</td>\n",
       "      <td>242</td>\n",
       "      <td>3</td>\n",
       "      <td>881250949</td>\n",
       "    </tr>\n",
       "    <tr>\n",
       "      <th>1</th>\n",
       "      <td>186</td>\n",
       "      <td>302</td>\n",
       "      <td>3</td>\n",
       "      <td>891717742</td>\n",
       "    </tr>\n",
       "    <tr>\n",
       "      <th>2</th>\n",
       "      <td>22</td>\n",
       "      <td>377</td>\n",
       "      <td>1</td>\n",
       "      <td>878887116</td>\n",
       "    </tr>\n",
       "    <tr>\n",
       "      <th>3</th>\n",
       "      <td>244</td>\n",
       "      <td>51</td>\n",
       "      <td>2</td>\n",
       "      <td>880606923</td>\n",
       "    </tr>\n",
       "    <tr>\n",
       "      <th>4</th>\n",
       "      <td>166</td>\n",
       "      <td>346</td>\n",
       "      <td>1</td>\n",
       "      <td>886397596</td>\n",
       "    </tr>\n",
       "  </tbody>\n",
       "</table>\n",
       "</div>"
      ],
      "text/plain": [
       "   user_id  item_id  rating  timestamp\n",
       "0      196      242       3  881250949\n",
       "1      186      302       3  891717742\n",
       "2       22      377       1  878887116\n",
       "3      244       51       2  880606923\n",
       "4      166      346       1  886397596"
      ]
     },
     "execution_count": 27,
     "metadata": {},
     "output_type": "execute_result"
    }
   ],
   "source": [
    "df = pd.read_csv(\"ml-100k/u.data\", sep = '\\t', names = names)\n",
    "df.head()"
   ]
  },
  {
   "cell_type": "markdown",
   "id": "0bd6111b-77e4-4cf9-ab15-70a42b617169",
   "metadata": {},
   "source": [
    "checking the unique values of items and users"
   ]
  },
  {
   "cell_type": "code",
   "execution_count": 31,
   "id": "e8baf956-3afe-421f-b39e-599beaeb59f1",
   "metadata": {},
   "outputs": [
    {
     "name": "stdout",
     "output_type": "stream",
     "text": [
      "Number of:\n",
      " -Users: 943\n",
      " -Items: 1682\n"
     ]
    }
   ],
   "source": [
    "n_users = df.user_id.unique().shape[0]\n",
    "n_items = df.item_id.unique().shape[0]\n",
    "\n",
    "print(f'Number of:\\n -Users: {n_users}\\n -Items: {n_items}')"
   ]
  },
  {
   "cell_type": "code",
   "execution_count": null,
   "id": "93d74731-269e-4c05-91a0-45fe236f0e3b",
   "metadata": {},
   "outputs": [],
   "source": []
  },
  {
   "cell_type": "markdown",
   "id": "6ba352c0-baf4-4a17-9c73-b17df03993b7",
   "metadata": {},
   "source": [
    "## Imports "
   ]
  },
  {
   "cell_type": "code",
   "execution_count": 1,
   "id": "b58be7af-78a3-47ae-8ed3-55de779f6e99",
   "metadata": {},
   "outputs": [],
   "source": [
    "import numpy as np"
   ]
  },
  {
   "cell_type": "code",
   "execution_count": 2,
   "id": "99155d40-7c32-4e2b-b1fe-c33c14f1d55a",
   "metadata": {},
   "outputs": [],
   "source": [
    "import pandas as pd"
   ]
  },
  {
   "cell_type": "code",
   "execution_count": 8,
   "id": "5e5231e8-26c0-4de8-9f3d-a5832fa544b8",
   "metadata": {},
   "outputs": [],
   "source": [
    "import zipfile"
   ]
  },
  {
   "cell_type": "code",
   "execution_count": null,
   "id": "db6494f5-e33b-421c-ac6e-3456c7d8f331",
   "metadata": {},
   "outputs": [],
   "source": []
  }
 ],
 "metadata": {
  "kernelspec": {
   "display_name": "Python 3",
   "language": "python",
   "name": "python3"
  },
  "language_info": {
   "codemirror_mode": {
    "name": "ipython",
    "version": 3
   },
   "file_extension": ".py",
   "mimetype": "text/x-python",
   "name": "python",
   "nbconvert_exporter": "python",
   "pygments_lexer": "ipython3",
   "version": "3.8.8"
  }
 },
 "nbformat": 4,
 "nbformat_minor": 5
}
