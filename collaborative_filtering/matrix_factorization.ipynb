{
 "cells": [
  {
   "cell_type": "markdown",
   "id": "037e2a61-0f4e-4ebd-b0f1-1d11dd981527",
   "metadata": {},
   "source": [
    "# **Matrix Factorization**"
   ]
  },
  {
   "cell_type": "markdown",
   "id": "b5705307-d13a-44e2-88ef-1c06aeb973c0",
   "metadata": {},
   "source": [
    "## Loading The Data"
   ]
  },
  {
   "cell_type": "code",
   "execution_count": 1,
   "id": "a54dbfc6-5720-43f0-a3e2-accec6310f7c",
   "metadata": {},
   "outputs": [],
   "source": [
    "names = ['user_id', 'item_id', 'rating', 'timestamp']"
   ]
  },
  {
   "cell_type": "code",
   "execution_count": 9,
   "id": "384ee319-9edf-44db-9457-6282ff2161a8",
   "metadata": {},
   "outputs": [
    {
     "data": {
      "text/html": [
       "<div>\n",
       "<style scoped>\n",
       "    .dataframe tbody tr th:only-of-type {\n",
       "        vertical-align: middle;\n",
       "    }\n",
       "\n",
       "    .dataframe tbody tr th {\n",
       "        vertical-align: top;\n",
       "    }\n",
       "\n",
       "    .dataframe thead th {\n",
       "        text-align: right;\n",
       "    }\n",
       "</style>\n",
       "<table border=\"1\" class=\"dataframe\">\n",
       "  <thead>\n",
       "    <tr style=\"text-align: right;\">\n",
       "      <th></th>\n",
       "      <th>user_id</th>\n",
       "      <th>item_id</th>\n",
       "      <th>rating</th>\n",
       "      <th>timestamp</th>\n",
       "    </tr>\n",
       "  </thead>\n",
       "  <tbody>\n",
       "    <tr>\n",
       "      <th>0</th>\n",
       "      <td>196</td>\n",
       "      <td>242</td>\n",
       "      <td>3</td>\n",
       "      <td>881250949</td>\n",
       "    </tr>\n",
       "    <tr>\n",
       "      <th>1</th>\n",
       "      <td>186</td>\n",
       "      <td>302</td>\n",
       "      <td>3</td>\n",
       "      <td>891717742</td>\n",
       "    </tr>\n",
       "    <tr>\n",
       "      <th>2</th>\n",
       "      <td>22</td>\n",
       "      <td>377</td>\n",
       "      <td>1</td>\n",
       "      <td>878887116</td>\n",
       "    </tr>\n",
       "    <tr>\n",
       "      <th>3</th>\n",
       "      <td>244</td>\n",
       "      <td>51</td>\n",
       "      <td>2</td>\n",
       "      <td>880606923</td>\n",
       "    </tr>\n",
       "    <tr>\n",
       "      <th>4</th>\n",
       "      <td>166</td>\n",
       "      <td>346</td>\n",
       "      <td>1</td>\n",
       "      <td>886397596</td>\n",
       "    </tr>\n",
       "  </tbody>\n",
       "</table>\n",
       "</div>"
      ],
      "text/plain": [
       "   user_id  item_id  rating  timestamp\n",
       "0      196      242       3  881250949\n",
       "1      186      302       3  891717742\n",
       "2       22      377       1  878887116\n",
       "3      244       51       2  880606923\n",
       "4      166      346       1  886397596"
      ]
     },
     "execution_count": 9,
     "metadata": {},
     "output_type": "execute_result"
    }
   ],
   "source": [
    "df = pd.read_csv(\"ml-100k/u.data\", sep = '\\t', names = names)\n",
    "df.head()"
   ]
  },
  {
   "cell_type": "code",
   "execution_count": 10,
   "id": "bc1f253b-1823-48a0-af62-9587ec72d8d1",
   "metadata": {},
   "outputs": [
    {
     "name": "stdout",
     "output_type": "stream",
     "text": [
      "Number of:\n",
      " -Users: 943\n",
      " -Items: 1682\n"
     ]
    }
   ],
   "source": [
    "n_users = df.user_id.unique().shape[0]\n",
    "n_items = df.item_id.unique().shape[0]\n",
    "\n",
    "print(f'Number of:\\n -Users: {n_users}\\n -Items: {n_items}')"
   ]
  },
  {
   "cell_type": "markdown",
   "id": "62a50d13-7557-4532-a776-a8abf234fb33",
   "metadata": {},
   "source": [
    "## Feature Engineering"
   ]
  },
  {
   "cell_type": "markdown",
   "id": "68539f0e-0c2d-49a0-b4d5-bf84651ec3e5",
   "metadata": {},
   "source": [
    "Creating the user-item matrix"
   ]
  },
  {
   "cell_type": "code",
   "execution_count": 11,
   "id": "e4e25e82-a61b-4285-a71c-b25710b1665d",
   "metadata": {},
   "outputs": [],
   "source": [
    "M = np.zeros((n_users, n_items))"
   ]
  },
  {
   "cell_type": "markdown",
   "id": "bba748ad-4597-45a8-863d-c4d4bab607a6",
   "metadata": {},
   "source": [
    "we subtract 1 of the user and item id's bacause they start at 1, so to is needed to mach with the numpy array index"
   ]
  },
  {
   "cell_type": "code",
   "execution_count": 12,
   "id": "55efd1f3-5b65-41ae-ac8b-e7fb9805efa0",
   "metadata": {},
   "outputs": [],
   "source": [
    "for row in df.itertuples(index = False):\n",
    "    \n",
    "    M[row[0]-1, row[1]-1] = row[2]"
   ]
  },
  {
   "cell_type": "code",
   "execution_count": 13,
   "id": "bcb0acfe-af00-48f0-ace1-045fb93448e9",
   "metadata": {},
   "outputs": [
    {
     "data": {
      "text/plain": [
       "array([[5., 3., 4., ..., 0., 0., 0.],\n",
       "       [4., 0., 0., ..., 0., 0., 0.],\n",
       "       [0., 0., 0., ..., 0., 0., 0.],\n",
       "       ...,\n",
       "       [5., 0., 0., ..., 0., 0., 0.],\n",
       "       [0., 0., 0., ..., 0., 0., 0.],\n",
       "       [0., 5., 0., ..., 0., 0., 0.]])"
      ]
     },
     "execution_count": 13,
     "metadata": {},
     "output_type": "execute_result"
    }
   ],
   "source": [
    "M"
   ]
  },
  {
   "cell_type": "code",
   "execution_count": 14,
   "id": "998f597f-9944-4be4-85e4-7e7f8c44c30a",
   "metadata": {},
   "outputs": [
    {
     "name": "stdout",
     "output_type": "stream",
     "text": [
      "Sparsity: 6.30%\n"
     ]
    }
   ],
   "source": [
    "sparsity = len(M.nonzero()[0])\n",
    "sparsity /= (M.shape[0] * M.shape[1])\n",
    "\n",
    "sparsity *= 100\n",
    "\n",
    "print(f'Sparsity: {sparsity:.2f}%')"
   ]
  },
  {
   "cell_type": "markdown",
   "id": "5dbb5537-d73f-4382-bb1b-c545553bbd1b",
   "metadata": {},
   "source": [
    "## Creating The Train And Test Datasets"
   ]
  },
  {
   "cell_type": "code",
   "execution_count": 16,
   "id": "1e806232-c406-48a1-87dd-639300230ea5",
   "metadata": {},
   "outputs": [],
   "source": [
    "train, test = train_test_split(M)"
   ]
  },
  {
   "cell_type": "code",
   "execution_count": null,
   "id": "d646f535-c0bc-40e6-a542-5d6ebbd5639e",
   "metadata": {},
   "outputs": [],
   "source": []
  },
  {
   "cell_type": "markdown",
   "id": "4917236d-3e73-47fe-8daa-e447a93196ff",
   "metadata": {},
   "source": [
    "## **Functions**"
   ]
  },
  {
   "cell_type": "code",
   "execution_count": 17,
   "id": "cfe79c0d-f06b-40a5-bdd5-8662918b4d36",
   "metadata": {},
   "outputs": [],
   "source": [
    "def get_mean_squared_error(pred, actual):\n",
    "    \n",
    "    # Ignoring the nonzero terms.\n",
    "    \n",
    "    pred = pred[actual.nonzero()].flatten()\n",
    "    actual = actual[actual.nonzero()].flatten()\n",
    "    \n",
    "    return mean_squared_error(pred, actual)\n",
    "    "
   ]
  },
  {
   "cell_type": "code",
   "execution_count": 15,
   "id": "f51d8af3-b750-4d31-b954-1d8f585f849e",
   "metadata": {},
   "outputs": [],
   "source": [
    "def train_test_split(M):\n",
    "    \n",
    "    train = M.copy()\n",
    "    test = np.zeros((M.shape[0], M.shape[1]))\n",
    "    \n",
    "    for user in np.arange(M.shape[0]):\n",
    "        \n",
    "        test_ratings = np.random.choice( M[user, :].nonzero()[0], size = 10, replace = False)\n",
    "        \n",
    "        train[user, test_ratings] = 0\n",
    "        test[user, test_ratings] = M[user, test_ratings]\n",
    "        \n",
    "        assert(np.all((train * test) == 0))\n",
    "        \n",
    "        return train, test"
   ]
  },
  {
   "cell_type": "markdown",
   "id": "9541bfbb-f26c-4559-b509-2d51c77cbaa9",
   "metadata": {},
   "source": [
    "## Imports "
   ]
  },
  {
   "cell_type": "code",
   "execution_count": 3,
   "id": "89acb649-065e-4ac8-8cd2-5971a3f655f7",
   "metadata": {},
   "outputs": [],
   "source": [
    "import numpy as np"
   ]
  },
  {
   "cell_type": "code",
   "execution_count": 4,
   "id": "38b5b44f-9ab3-430a-a5d3-eec49f9fc9f2",
   "metadata": {},
   "outputs": [],
   "source": [
    "import pandas as pd"
   ]
  },
  {
   "cell_type": "code",
   "execution_count": 5,
   "id": "7784bb1b-84f4-42c1-ac69-b697f131b6c1",
   "metadata": {},
   "outputs": [],
   "source": [
    "import zipfile"
   ]
  },
  {
   "cell_type": "code",
   "execution_count": 6,
   "id": "29420232-956d-48f6-b71a-ff86cf0caf91",
   "metadata": {},
   "outputs": [],
   "source": [
    "from sklearn.metrics import mean_squared_error"
   ]
  },
  {
   "cell_type": "code",
   "execution_count": 7,
   "id": "2343cfa7-4eed-444f-900b-439c371ef0a0",
   "metadata": {},
   "outputs": [],
   "source": [
    "import matplotlib.pyplot as plt"
   ]
  },
  {
   "cell_type": "code",
   "execution_count": 8,
   "id": "b89f94ac-4430-4f7c-a2b0-d36ccc6581c1",
   "metadata": {},
   "outputs": [],
   "source": [
    "import seaborn as sns"
   ]
  },
  {
   "cell_type": "code",
   "execution_count": null,
   "id": "6d97ced7-86ed-4658-a3ad-9456e2e67f05",
   "metadata": {},
   "outputs": [],
   "source": []
  }
 ],
 "metadata": {
  "kernelspec": {
   "display_name": "Python 3",
   "language": "python",
   "name": "python3"
  },
  "language_info": {
   "codemirror_mode": {
    "name": "ipython",
    "version": 3
   },
   "file_extension": ".py",
   "mimetype": "text/x-python",
   "name": "python",
   "nbconvert_exporter": "python",
   "pygments_lexer": "ipython3",
   "version": "3.8.8"
  }
 },
 "nbformat": 4,
 "nbformat_minor": 5
}
