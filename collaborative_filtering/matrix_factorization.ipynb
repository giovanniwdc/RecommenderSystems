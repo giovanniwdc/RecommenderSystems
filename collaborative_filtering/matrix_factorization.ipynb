{
 "cells": [
  {
   "cell_type": "markdown",
   "id": "037e2a61-0f4e-4ebd-b0f1-1d11dd981527",
   "metadata": {},
   "source": [
    "# **Matrix Factorization**"
   ]
  },
  {
   "cell_type": "markdown",
   "id": "b5705307-d13a-44e2-88ef-1c06aeb973c0",
   "metadata": {},
   "source": [
    "## Loading The Data"
   ]
  },
  {
   "cell_type": "code",
   "execution_count": 9,
   "id": "a54dbfc6-5720-43f0-a3e2-accec6310f7c",
   "metadata": {},
   "outputs": [],
   "source": [
    "names = ['user_id', 'item_id', 'rating', 'timestamp']"
   ]
  },
  {
   "cell_type": "code",
   "execution_count": 10,
   "id": "384ee319-9edf-44db-9457-6282ff2161a8",
   "metadata": {},
   "outputs": [
    {
     "data": {
      "text/html": [
       "<div>\n",
       "<style scoped>\n",
       "    .dataframe tbody tr th:only-of-type {\n",
       "        vertical-align: middle;\n",
       "    }\n",
       "\n",
       "    .dataframe tbody tr th {\n",
       "        vertical-align: top;\n",
       "    }\n",
       "\n",
       "    .dataframe thead th {\n",
       "        text-align: right;\n",
       "    }\n",
       "</style>\n",
       "<table border=\"1\" class=\"dataframe\">\n",
       "  <thead>\n",
       "    <tr style=\"text-align: right;\">\n",
       "      <th></th>\n",
       "      <th>user_id</th>\n",
       "      <th>item_id</th>\n",
       "      <th>rating</th>\n",
       "      <th>timestamp</th>\n",
       "    </tr>\n",
       "  </thead>\n",
       "  <tbody>\n",
       "    <tr>\n",
       "      <th>0</th>\n",
       "      <td>196</td>\n",
       "      <td>242</td>\n",
       "      <td>3</td>\n",
       "      <td>881250949</td>\n",
       "    </tr>\n",
       "    <tr>\n",
       "      <th>1</th>\n",
       "      <td>186</td>\n",
       "      <td>302</td>\n",
       "      <td>3</td>\n",
       "      <td>891717742</td>\n",
       "    </tr>\n",
       "    <tr>\n",
       "      <th>2</th>\n",
       "      <td>22</td>\n",
       "      <td>377</td>\n",
       "      <td>1</td>\n",
       "      <td>878887116</td>\n",
       "    </tr>\n",
       "    <tr>\n",
       "      <th>3</th>\n",
       "      <td>244</td>\n",
       "      <td>51</td>\n",
       "      <td>2</td>\n",
       "      <td>880606923</td>\n",
       "    </tr>\n",
       "    <tr>\n",
       "      <th>4</th>\n",
       "      <td>166</td>\n",
       "      <td>346</td>\n",
       "      <td>1</td>\n",
       "      <td>886397596</td>\n",
       "    </tr>\n",
       "  </tbody>\n",
       "</table>\n",
       "</div>"
      ],
      "text/plain": [
       "   user_id  item_id  rating  timestamp\n",
       "0      196      242       3  881250949\n",
       "1      186      302       3  891717742\n",
       "2       22      377       1  878887116\n",
       "3      244       51       2  880606923\n",
       "4      166      346       1  886397596"
      ]
     },
     "execution_count": 10,
     "metadata": {},
     "output_type": "execute_result"
    }
   ],
   "source": [
    "df = pd.read_csv(\"ml-100k/u.data\", sep = '\\t', names = names)\n",
    "df.head()"
   ]
  },
  {
   "cell_type": "code",
   "execution_count": 11,
   "id": "bc1f253b-1823-48a0-af62-9587ec72d8d1",
   "metadata": {},
   "outputs": [
    {
     "name": "stdout",
     "output_type": "stream",
     "text": [
      "Number of:\n",
      " -Users: 943\n",
      " -Items: 1682\n"
     ]
    }
   ],
   "source": [
    "n_users = df.user_id.unique().shape[0]\n",
    "n_items = df.item_id.unique().shape[0]\n",
    "\n",
    "print(f'Number of:\\n -Users: {n_users}\\n -Items: {n_items}')"
   ]
  },
  {
   "cell_type": "markdown",
   "id": "62a50d13-7557-4532-a776-a8abf234fb33",
   "metadata": {},
   "source": [
    "## Feature Engineering"
   ]
  },
  {
   "cell_type": "markdown",
   "id": "68539f0e-0c2d-49a0-b4d5-bf84651ec3e5",
   "metadata": {},
   "source": [
    "Creating the user-item matrix"
   ]
  },
  {
   "cell_type": "code",
   "execution_count": 12,
   "id": "e4e25e82-a61b-4285-a71c-b25710b1665d",
   "metadata": {},
   "outputs": [],
   "source": [
    "M = np.zeros((n_users, n_items))"
   ]
  },
  {
   "cell_type": "markdown",
   "id": "bba748ad-4597-45a8-863d-c4d4bab607a6",
   "metadata": {},
   "source": [
    "we subtract 1 of the user and item id's bacause they start at 1, so to is needed to mach with the numpy array index"
   ]
  },
  {
   "cell_type": "code",
   "execution_count": 13,
   "id": "55efd1f3-5b65-41ae-ac8b-e7fb9805efa0",
   "metadata": {},
   "outputs": [],
   "source": [
    "for row in df.itertuples(index = False):\n",
    "    \n",
    "    M[row[0]-1, row[1]-1] = row[2]"
   ]
  },
  {
   "cell_type": "code",
   "execution_count": 14,
   "id": "bcb0acfe-af00-48f0-ace1-045fb93448e9",
   "metadata": {},
   "outputs": [
    {
     "data": {
      "text/plain": [
       "array([[5., 3., 4., ..., 0., 0., 0.],\n",
       "       [4., 0., 0., ..., 0., 0., 0.],\n",
       "       [0., 0., 0., ..., 0., 0., 0.],\n",
       "       ...,\n",
       "       [5., 0., 0., ..., 0., 0., 0.],\n",
       "       [0., 0., 0., ..., 0., 0., 0.],\n",
       "       [0., 5., 0., ..., 0., 0., 0.]])"
      ]
     },
     "execution_count": 14,
     "metadata": {},
     "output_type": "execute_result"
    }
   ],
   "source": [
    "M"
   ]
  },
  {
   "cell_type": "code",
   "execution_count": 15,
   "id": "998f597f-9944-4be4-85e4-7e7f8c44c30a",
   "metadata": {},
   "outputs": [
    {
     "name": "stdout",
     "output_type": "stream",
     "text": [
      "Sparsity: 6.30%\n"
     ]
    }
   ],
   "source": [
    "sparsity = len(M.nonzero()[0])\n",
    "sparsity /= (M.shape[0] * M.shape[1])\n",
    "\n",
    "sparsity *= 100\n",
    "\n",
    "print(f'Sparsity: {sparsity:.2f}%')"
   ]
  },
  {
   "cell_type": "markdown",
   "id": "5dbb5537-d73f-4382-bb1b-c545553bbd1b",
   "metadata": {},
   "source": [
    "## Creating The Train And Test Datasets"
   ]
  },
  {
   "cell_type": "code",
   "execution_count": 16,
   "id": "1e806232-c406-48a1-87dd-639300230ea5",
   "metadata": {},
   "outputs": [],
   "source": [
    "train, test = train_test_split(M)"
   ]
  },
  {
   "cell_type": "markdown",
   "id": "e6bcfc6a-41b5-44e8-bc6c-09e9052057b5",
   "metadata": {},
   "source": [
    "## The ALS training"
   ]
  },
  {
   "cell_type": "code",
   "execution_count": 51,
   "id": "60d1fe9f-48c1-4503-8c63-dd00b4b66103",
   "metadata": {},
   "outputs": [],
   "source": [
    "class ExplicitMF():\n",
    "    \n",
    "    def __init__(self, ratings, n_factors = 40, item_reg = 0.0, user_reg = 0.0, verbose = False):\n",
    "        \n",
    "        self.ratings = ratings\n",
    "        self.n_users, self.n_items = ratings.shape\n",
    "        self.n_factors = n_factors\n",
    "        self.item_reg = item_reg\n",
    "        self.user_reg = user_reg\n",
    "        self._v = verbose\n",
    "    \n",
    "    def als_step(self, latent_vectors, fixed_vecs, ratings, _lambda, tp = 'user'):\n",
    "        \n",
    "        if tp == 'user':\n",
    "            \n",
    "            YTY = fixed_vecs.T @ fixed_vecs\n",
    "            lambda_I = np.eye(YTY.shape[0]) * _lambda\n",
    "            \n",
    "            for u in np.arange(latent_vectors.shape[0]):\n",
    "                \n",
    "                latent_vectors[u, :] = linalg.solve((YTY + lambda_I), ratings[u, :] @ fixed_vecs)\n",
    "                       \n",
    "        elif tp == 'item':\n",
    "            \n",
    "            XTX = fixed_vecs.T @ fixed_vecs\n",
    "            lambdaI = np.eye(XTX.shape[0]) * _lambda\n",
    "            \n",
    "            for i in np.arange(latent_vectors.shape[0]):\n",
    "                latent_vectors[i, :] = linalg.solve((XTX + lambdaI), ratings[:, i].T @ fixed_vecs)\n",
    "        \n",
    "        return latent_vectors\n",
    "    \n",
    "    def train(self, n_iter = 10):\n",
    "        \n",
    "        self.user_vecs = np.random.random((self.n_users, self.n_factors))\n",
    "        self.item_vecs = np.random.random((self.n_items, self.n_factors))\n",
    "        \n",
    "        self.partial_train(n_iter)\n",
    "        \n",
    "    def partial_train(self, n_iter):\n",
    "        \n",
    "        ctr = 1\n",
    "        \n",
    "        while ctr <= n_iter:\n",
    "            \n",
    "            if ctr % 10 == 0 and self._v:\n",
    "                \n",
    "                print(f\"\\t current iteration: {ctr}\")\n",
    "                \n",
    "            self.user_vecs = self.als_step(self.user_vecs, self.item_vecs, self.ratings, self.user_reg, tp = 'user')\n",
    "            self.item_vecs = self.als_step(self.item_vecs, self.user_vecs, self.ratings, self.item_reg, tp = 'item')\n",
    "                \n",
    "            ctr += 1\n",
    "                \n",
    "    def predict_all(self):\n",
    "        \n",
    "        predictions = np.zeros((self.user_vecs.shape[0], self.item_vecs.shape[0]))\n",
    "        \n",
    "        for u in np.arange(self.user_vecs.shape[0]):\n",
    "            for i in np.arange(self.item_vecs.shape[0]):\n",
    "                \n",
    "                predictions[u, i] = self.predict(u, i)\n",
    "        \n",
    "        return predictions\n",
    "    \n",
    "    def predict(self, u, i):\n",
    "        \n",
    "        return self.user_vecs[u, :] @ self.item_vecs[i, :].T\n",
    "    \n",
    "    def calculate_learning_curve(self, iter_array, test):\n",
    "        \n",
    "        iter_array.sort()\n",
    "        \n",
    "        self.train_mse = []\n",
    "        self.test_mse = []\n",
    "        \n",
    "        iter_diff = 0\n",
    "        \n",
    "        for i, n_iter in enumerate(iter_array):\n",
    "            \n",
    "            if self._v:\n",
    "                \n",
    "                print(f\"Iteration: {n_iter}\")\n",
    "                \n",
    "            if i == 0:\n",
    "                \n",
    "                self.train(n_iter - iter_diff)\n",
    "                \n",
    "            else:\n",
    "                    \n",
    "                self.partial_train(n_iter - iter_diff)\n",
    "                \n",
    "            predictions = self.predict_all()\n",
    "                \n",
    "            self.train_mse += [get_mean_squared_error(predictions, self.ratings)]\n",
    "            self.test_mse += [get_mean_squared_error(predictions, test)]\n",
    "                \n",
    "            if self._v:\n",
    "                    \n",
    "                print(f\"Train mse: {self.train_mse[-1]}\")\n",
    "                print(f\"Test mse: {self.test_mse[-1]}\")\n",
    "                    \n",
    "            iter_diff = n_iter"
   ]
  },
  {
   "cell_type": "code",
   "execution_count": 54,
   "id": "a157d719-4588-479d-b8bf-6e0b61906e71",
   "metadata": {},
   "outputs": [],
   "source": [
    "np.random.seed(42)"
   ]
  },
  {
   "cell_type": "code",
   "execution_count": 55,
   "id": "fa2f76a6-2e7f-4c61-806f-99363fe97510",
   "metadata": {},
   "outputs": [],
   "source": [
    "mf_als = ExplicitMF(train)\n",
    "\n",
    "iter_array = [1, 2, 5, 10, 25, 50, 100]\n",
    "\n",
    "mf_als.calculate_learning_curve(iter_array, test)"
   ]
  },
  {
   "cell_type": "code",
   "execution_count": 58,
   "id": "7b0e3d67-381a-42c5-bd36-6f1b2749901f",
   "metadata": {},
   "outputs": [],
   "source": [
    "sns.set()\n",
    "\n",
    "def plot_learning_curve(iter_array, model):\n",
    "    plt.plot(iter_array, model.train_mse, label='Training', linewidth=5)\n",
    "    plt.plot(iter_array, model.test_mse, label='Test', linewidth=5)\n",
    "\n",
    "\n",
    "    plt.xticks(fontsize=16);\n",
    "    plt.yticks(fontsize=16);\n",
    "    plt.xlabel('iterations', fontsize=30);\n",
    "    plt.ylabel('MSE', fontsize=30);\n",
    "    plt.legend(loc='best', fontsize=20);"
   ]
  },
  {
   "cell_type": "code",
   "execution_count": 59,
   "id": "7260e4e3-542d-4835-8469-b39e9d684691",
   "metadata": {},
   "outputs": [
    {
     "data": {
      "image/png": "[encoded data removed]",
      "text/plain": [
       "<Figure size 432x288 with 1 Axes>"
      ]
     },
     "metadata": {},
     "output_type": "display_data"
    }
   ],
   "source": [
    "plot_learning_curve(iter_array, mf_als)\n"
   ]
  },
  {
   "cell_type": "code",
   "execution_count": 60,
   "id": "b55f7e6d-9ec5-4349-b993-505625f88d3c",
   "metadata": {},
   "outputs": [],
   "source": [
    "mf_als = ExplicitMF(train, user_reg = 0.1, item_reg = 0.1)\n",
    "\n",
    "iter_array = [1, 2, 5, 10, 25, 50, 100]\n",
    "\n",
    "mf_als.calculate_learning_curve(iter_array, test)"
   ]
  },
  {
   "cell_type": "code",
   "execution_count": 71,
   "id": "876d609e-7497-4ded-a8c9-997c2a3d7ad5",
   "metadata": {},
   "outputs": [],
   "source": [
    "def plot_learning_curve(iter_array, model):\n",
    "    \n",
    "    fig = plt.figure(figsize = (16, 8))\n",
    "    \n",
    "    plt.plot(iter_array, model.train_mse, label='Training', linewidth=5)\n",
    "    plt.plot(iter_array, model.test_mse, label='Test', linewidth=5)\n",
    "\n",
    "\n",
    "    plt.xticks(fontsize=16);\n",
    "    plt.yticks(fontsize=16);\n",
    "    \n",
    "    plt.xlabel('iterations', fontsize=30);\n",
    "    plt.ylabel('MSE', fontsize=30);\n",
    "    \n",
    "    plt.legend(loc='best', fontsize=20);"
   ]
  },
  {
   "cell_type": "code",
   "execution_count": 72,
   "id": "411b64c3-ed9a-49d8-b83d-1ae32a7073a9",
   "metadata": {},
   "outputs": [
    {
     "ename": "NameError",
     "evalue": "name 'mf_als' is not defined",
     "output_type": "error",
     "traceback": [
      "\u001b[1;31m---------------------------------------------------------------------------\u001b[0m",
      "\u001b[1;31mNameError\u001b[0m                                 Traceback (most recent call last)",
      "\u001b[1;32m<ipython-input-72-7b5bb13ac553>\u001b[0m in \u001b[0;36m<module>\u001b[1;34m\u001b[0m\n\u001b[1;32m----> 1\u001b[1;33m \u001b[0mplot_learning_curve\u001b[0m\u001b[1;33m(\u001b[0m\u001b[0miter_array\u001b[0m\u001b[1;33m,\u001b[0m \u001b[0mmf_als\u001b[0m\u001b[1;33m)\u001b[0m\u001b[1;33m\u001b[0m\u001b[1;33m\u001b[0m\u001b[0m\n\u001b[0m",
      "\u001b[1;31mNameError\u001b[0m: name 'mf_als' is not defined"
     ]
    }
   ],
   "source": [
    "plot_learning_curve(iter_array, mf_als)\n"
   ]
  },
  {
   "cell_type": "markdown",
   "id": "206b43ab-2dd5-45d1-a2de-39d3c11e0eed",
   "metadata": {},
   "source": [
    "## Tunning"
   ]
  },
  {
   "cell_type": "code",
   "execution_count": 82,
   "id": "b809b3ae-794f-41cc-a241-5489355c3dc4",
   "metadata": {},
   "outputs": [],
   "source": [
    "latent_factors = [5, 10, 20, 40, 80]\n",
    "regularizations = [0.01, 0.1, 1., 10., 100.]\n",
    "iter_array = [1, 2, 5, 10, 25, 50, 100]"
   ]
  },
  {
   "cell_type": "code",
   "execution_count": 84,
   "id": "4d884e15-e5fe-484f-acd7-fabb96450221",
   "metadata": {},
   "outputs": [],
   "source": [
    "best_params = {}\n",
    "best_params['n_factors'] = latent_factors[0]\n",
    "best_params['reg'] = regularizations[0]\n",
    "best_params['n_iter'] = 0\n",
    "best_params['train_mse'] = np.inf\n",
    "best_params['test_mse'] = np.inf\n",
    "best_params['model'] = None"
   ]
  },
  {
   "cell_type": "code",
   "execution_count": 85,
   "id": "1f407f52-8bb1-45ea-8f8b-e6fbc35430f5",
   "metadata": {},
   "outputs": [
    {
     "name": "stdout",
     "output_type": "stream",
     "text": [
      "Factors: 5\n",
      "Regularization: 0.01\n",
      "New optimal hyperparameters\n",
      "n_factors                                                    5\n",
      "reg                                                       0.01\n",
      "n_iter                                                       5\n",
      "train_mse                                             5.963928\n",
      "test_mse                                              5.336695\n",
      "model        <__main__.ExplicitMF object at 0x000001B4A605E...\n",
      "dtype: object\n",
      "Regularization: 0.1\n",
      "Regularization: 1.0\n",
      "New optimal hyperparameters\n",
      "n_factors                                                    5\n",
      "reg                                                        1.0\n",
      "n_iter                                                       2\n",
      "train_mse                                             6.431541\n",
      "test_mse                                              5.287006\n",
      "model        <__main__.ExplicitMF object at 0x000001B4A5519...\n",
      "dtype: object\n",
      "Regularization: 10.0\n",
      "Regularization: 100.0\n",
      "Factors: 10\n",
      "Regularization: 0.01\n",
      "New optimal hyperparameters\n",
      "n_factors                                                   10\n",
      "reg                                                       0.01\n",
      "n_iter                                                     100\n",
      "train_mse                                              5.18934\n",
      "test_mse                                              5.007574\n",
      "model        <__main__.ExplicitMF object at 0x000001B4A605E...\n",
      "dtype: object\n",
      "Regularization: 0.1\n",
      "New optimal hyperparameters\n",
      "n_factors                                                   10\n",
      "reg                                                        0.1\n",
      "n_iter                                                      10\n",
      "train_mse                                             5.218132\n",
      "test_mse                                              4.942283\n",
      "model        <__main__.ExplicitMF object at 0x000001B4A605E...\n",
      "dtype: object\n",
      "Regularization: 1.0\n",
      "New optimal hyperparameters\n",
      "n_factors                                                   10\n",
      "reg                                                        1.0\n",
      "n_iter                                                       2\n",
      "train_mse                                             5.672908\n",
      "test_mse                                              4.789966\n",
      "model        <__main__.ExplicitMF object at 0x000001B4A5519...\n",
      "dtype: object\n",
      "Regularization: 10.0\n",
      "Regularization: 100.0\n",
      "Factors: 20\n",
      "Regularization: 0.01\n",
      "New optimal hyperparameters\n",
      "n_factors                                                   20\n",
      "reg                                                       0.01\n",
      "n_iter                                                     100\n",
      "train_mse                                             4.547644\n",
      "test_mse                                              4.611896\n",
      "model        <__main__.ExplicitMF object at 0x000001B4A605E...\n",
      "dtype: object\n",
      "Regularization: 0.1\n",
      "New optimal hyperparameters\n",
      "n_factors                                                   20\n",
      "reg                                                        0.1\n",
      "n_iter                                                       1\n",
      "train_mse                                             6.392361\n",
      "test_mse                                              4.535636\n",
      "model        <__main__.ExplicitMF object at 0x000001B4A605E...\n",
      "dtype: object\n",
      "Regularization: 1.0\n",
      "Regularization: 10.0\n",
      "Regularization: 100.0\n",
      "Factors: 40\n",
      "Regularization: 0.01\n",
      "Regularization: 0.1\n",
      "Regularization: 1.0\n",
      "Regularization: 10.0\n",
      "Regularization: 100.0\n",
      "Factors: 80\n",
      "Regularization: 0.01\n",
      "Regularization: 0.1\n",
      "Regularization: 1.0\n",
      "Regularization: 10.0\n",
      "Regularization: 100.0\n"
     ]
    }
   ],
   "source": [
    "for fact in latent_factors:\n",
    "    \n",
    "    print(f'Factors: {fact}')\n",
    "    \n",
    "    for reg in regularizations:\n",
    "        \n",
    "        print(f'Regularization: {reg}')\n",
    "        \n",
    "        MF_ALS = ExplicitMF(train, n_factors=fact, user_reg=reg, item_reg=reg)\n",
    "        MF_ALS.calculate_learning_curve(iter_array, test)\n",
    "        \n",
    "        min_idx = np.argmin(MF_ALS.test_mse)\n",
    "        \n",
    "        if MF_ALS.test_mse[min_idx] < best_params['test_mse']:\n",
    "            \n",
    "            best_params['n_factors'] = fact\n",
    "            best_params['reg'] = reg\n",
    "            best_params['n_iter'] = iter_array[min_idx]\n",
    "            best_params['train_mse'] = MF_ALS.train_mse[min_idx]\n",
    "            best_params['test_mse'] = MF_ALS.test_mse[min_idx]\n",
    "            best_params['model'] = MF_ALS\n",
    "            \n",
    "            print(f'New optimal hyperparameters')\n",
    "            print(pd.Series(best_params))"
   ]
  },
  {
   "cell_type": "markdown",
   "id": "508ff8ae-31e8-4c88-a851-28ab18fa789a",
   "metadata": {},
   "source": [
    "$L = \\sum\\limits_{u,i}(r_{ui} - (\\mu + b_{u} + b_{i} + \\textbf{x}_{u}^{\\intercal} \\cdot{} \\textbf{y}_{i}))^{2} \\newline$\n",
    "\n",
    "$\\lambda_{xb} \\sum\\limits_{u} \\left\\Vert b_{u} \\right\\Vert^{2} + \\lambda_{yb} \\sum\\limits_{i} \\left\\Vert b_{i} \\right\\Vert^{2} \\newline$\n",
    "$\\lambda_{xf} \\sum\\limits_{u} \\left\\Vert \\textbf{x}_{u} \\right\\Vert^{2} + \\lambda_{yf} \\sum\\limits_{i} \\left\\Vert \\textbf{y}_{i} \\right\\Vert^{2}$"
   ]
  },
  {
   "cell_type": "markdown",
   "id": "e837ed93-e39b-418a-8ce8-d0fa9d452436",
   "metadata": {},
   "source": [
    "## **Stochastic Gradient Descent**"
   ]
  },
  {
   "cell_type": "code",
   "execution_count": 62,
   "id": "a39e34f9-ba40-45e2-b2cd-9537fe150462",
   "metadata": {},
   "outputs": [],
   "source": [
    "class ExplicitMF():\n",
    "    \n",
    "    def __init__(self,\n",
    "                 ratings, \n",
    "                 n_factors = 40, \n",
    "                 learning = \"sgd\", \n",
    "                 item_fact_reg = 0, \n",
    "                 user_fact_reg = 0, \n",
    "                 item_bias_reg = 0, \n",
    "                 user_bias_reg = 0, \n",
    "                 verbose = False):\n",
    "        \n",
    "        self.ratings = ratings \n",
    "        self.n_users, self.n_items = ratings.shape\n",
    "        self.n_factors = n_factors\n",
    "        self.item_fact_reg = item_fact_reg\n",
    "        self.user_fact_reg = user_fact_reg\n",
    "        self.item_bias_reg = item_bias_reg\n",
    "        self.user_bias_reg = user_bias_reg\n",
    "        self.learning = learning\n",
    "        \n",
    "        if self.learning == 'sgd':\n",
    "            \n",
    "            self.sample_row, self.sample_col = self.ratings.nonzero()\n",
    "            self.n_samples = len(self.sample_row)\n",
    "        \n",
    "        self._v = verbose \n",
    "        \n",
    "    def als_step(self, latent_vectors, fixes_vecs, ratings, _lambda, tp = 'user'):\n",
    "        \n",
    "        if tp == 'user':\n",
    "            \n",
    "            YTY = fixed_vecs.T @ fixed_vecs\n",
    "            labmda_I = np.yey(YTY.shape[0]) * _lambda\n",
    "            \n",
    "            for u in np.arange(latent_vectors.shape[0]):\n",
    "                \n",
    "                latent_vectors[u, :] = linalg.solve(YTY + lambda_I, ratings[u, :] @ fixed_vecs )\n",
    "            \n",
    "        elif tp == 'item':\n",
    "            \n",
    "            XTX = fixed_vecs.T @ fixed_vecs\n",
    "            lambda_I = np.eye(XTX.shape[0]) * lambda_I\n",
    "            \n",
    "            for i in np.arange(latent_vectors.shape[0]):\n",
    "                \n",
    "                latent_vectors[i, :] = linalg.solver(XTX + lambda_I, ratings[:, i] @ fixed_vecs)\n",
    "                \n",
    "        return latent_vectors\n",
    "    \n",
    "    def train(self, n_iter = 10, learning_rate = 0.1):\n",
    "        \n",
    "        self.user_vecs = np.random.normal(scale = 1/self.n_factors, size = (self.n_users, self.n_factors))\n",
    "        self.item_vecs = np.random.normal(scale = 1/self.n_factors, size = (self.n_items, self.n_factors))     \n",
    "        \n",
    "        if self.learning == 'als':\n",
    "            \n",
    "            self.partial_train(n_iter)\n",
    "            \n",
    "        elif self.learning == 'sgd':\n",
    "            \n",
    "            self.learning_rate = learning_rate\n",
    "            \n",
    "            self.user_bias = np.zeros(self.n_users)\n",
    "            self.item_bias = np.zeros(self.n_items)\n",
    "            \n",
    "            self.global_bias = np.mean(self.ratings[np.where(self.ratings != 0)])\n",
    "            \n",
    "            self.partial_train(n_iter)\n",
    "    \n",
    "    def partial_train(self, n_iter):\n",
    "        \n",
    "        ctr = 1\n",
    "        \n",
    "        while ctr <= n_iter:\n",
    "            \n",
    "            if ctr % 10 == 0 and self._v:\n",
    "                \n",
    "                print(f\"Current iteration: {ctr}\")\n",
    "                \n",
    "            if self.learning == 'als':\n",
    "                \n",
    "                self.user_vecs = self.als_step(\n",
    "                    self.user_vecs, \n",
    "                    self.item_vecs,\n",
    "                    self.ratings, \n",
    "                    self.user_fact_reg, \n",
    "                    tp = 'user')\n",
    "                \n",
    "                self.item_vecs = self.als_step(\n",
    "                    self.item_vecs, \n",
    "                    self.user_vecs,\n",
    "                    self.ratings, \n",
    "                    self.item_fact_reg, \n",
    "                    tp = 'item')\n",
    "                \n",
    "            elif self.learning == 'sgd':\n",
    "                \n",
    "                self.training_indices = np.arange(self.n_samples)\n",
    "                \n",
    "                np.random.shuffle(self.training_indices)\n",
    "                \n",
    "                self.sgd()\n",
    "            \n",
    "            ctr += 1\n",
    "    \n",
    "    def sgd(self):\n",
    "        \n",
    "        for idx in self.training_indices:\n",
    "            \n",
    "            u = self.sample_row[idx]\n",
    "            i = self.sample_col[idx]\n",
    "            \n",
    "            prediction = self.predict(u, i)\n",
    "            \n",
    "            e = (self.ratings[u, i] - prediction) \n",
    "            \n",
    "            self.user_bias[u] += self.learning_rate * (e - self.user_bias_reg * self.user_bias[u])\n",
    "            self.item_bias[i] += self.learning_rate * (e - self.item_bias_reg * self.item_bias[i])\n",
    "            \n",
    "            self.user_vecs[u, :] += self.learning_rate * (e * self.item_vecs[i, :] - self.user_fact_reg * self.user_vecs[u, :])\n",
    "            self.item_vecs[i, :] ++ self.learning_rate * (e * self.user_vecs[u, :] - self.item_fact_reg * self.item_vecs[i, :]) \n",
    "    \n",
    "    def predict(self, u, i):\n",
    "        \n",
    "        if self.learning == 'als':\n",
    "            \n",
    "            return self.global_bias + self.user_bias[u] + self.item_bias[i]\n",
    "        \n",
    "        elif self.learning == 'sgd':\n",
    "            \n",
    "            prediction = self.global_bias + self.user_bias[u] + self.item_bias[i]\n",
    "            prediction += self.user_vecs[u, :] @ self.item_vecs[i, :].T\n",
    "            \n",
    "            return prediction\n",
    "    \n",
    "    def predict_all(self):\n",
    "        \n",
    "        predictions = np.zeros((self.user_vecs.shape[0], self.item_vecs.shape[0]))\n",
    "        \n",
    "        for u in np.arange(self.user_vecs.shape[0]):\n",
    "            for i in np.arange(self.item_vecs.shape[0]):\n",
    "                \n",
    "                predictions[u, i] = self.predict(u, i)\n",
    "        \n",
    "        return predictions\n",
    "\n",
    "    def calculate_learning_curve(self, iter_array, test, learning_rate = 0.1):\n",
    "        \n",
    "        iter_array.sort()\n",
    "        \n",
    "        self.train_mse = []\n",
    "        self.test_mse = []\n",
    "        \n",
    "        iter_diff = 0\n",
    "        \n",
    "        for i, n_iter in enumerate(iter_array):\n",
    "            \n",
    "            if self._v:\n",
    "                \n",
    "                print(f\"Iteration: {n_iter}\")\n",
    "                \n",
    "            if i == 0:\n",
    "                \n",
    "                self.train(n_iter - iter_diff, learning_rate)\n",
    "            \n",
    "            else:\n",
    "                \n",
    "                self.partial_train(n_iter - iter_diff)\n",
    "            \n",
    "            predictions = self.predict_all()\n",
    "            \n",
    "            self.train_mse += [get_mse(predictions, self.ratings)]\n",
    "            self.test_mse += [get_mse(predictions, test)]\n",
    "\n",
    "            if self._v:\n",
    "                \n",
    "                print(f\"Train mse: {self.train_mse[-1]}\")\n",
    "                print(f\"Test mse: {self.test_mse[-1]}\")\n",
    "            \n",
    "            iter_diff = n_iter\n",
    "    "
   ]
  },
  {
   "cell_type": "code",
   "execution_count": 63,
   "id": "cc98a677-d58a-49e4-b0af-c84fa9337ab9",
   "metadata": {},
   "outputs": [],
   "source": [
    "mf_sgd = ExplicitMF(train, 40, learning = 'sgd', verbose = True)"
   ]
  },
  {
   "cell_type": "code",
   "execution_count": 66,
   "id": "49327100-6421-45d1-8436-bcd09b4e2281",
   "metadata": {},
   "outputs": [],
   "source": [
    "iter_array = [1, 2, 5, 10, 25, 50, 100, 200]"
   ]
  },
  {
   "cell_type": "code",
   "execution_count": 67,
   "id": "48f57002-d47d-4f95-9ce4-517049beef17",
   "metadata": {},
   "outputs": [
    {
     "name": "stdout",
     "output_type": "stream",
     "text": [
      "Iteration: 1\n",
      "Train mse: 1.1394839167789588\n",
      "Test mse: 2.399291059288182\n",
      "Iteration: 2\n",
      "Train mse: 1.0693345603506335\n",
      "Test mse: 2.3455486334275237\n",
      "Iteration: 5\n",
      "Train mse: 0.9741502759706848\n",
      "Test mse: 2.223615299820753\n",
      "Iteration: 10\n",
      "Train mse: 0.9182809639783218\n",
      "Test mse: 2.0880953928157173\n",
      "Iteration: 25\n",
      "Current iteration: 10\n",
      "Train mse: 0.8693132263759139\n",
      "Test mse: 1.8286793301366977\n",
      "Iteration: 50\n",
      "Current iteration: 10\n",
      "Current iteration: 20\n",
      "Train mse: 0.8480182419946026\n",
      "Test mse: 1.5880555785156636\n",
      "Iteration: 100\n",
      "Current iteration: 10\n",
      "Current iteration: 20\n",
      "Current iteration: 30\n",
      "Current iteration: 40\n",
      "Current iteration: 50\n",
      "Train mse: 0.8365865431212003\n",
      "Test mse: 1.3748050603717212\n",
      "Iteration: 200\n",
      "Current iteration: 10\n",
      "Current iteration: 20\n",
      "Current iteration: 30\n",
      "Current iteration: 40\n",
      "Current iteration: 50\n",
      "Current iteration: 60\n",
      "Current iteration: 70\n",
      "Current iteration: 80\n",
      "Current iteration: 90\n",
      "Current iteration: 100\n",
      "Train mse: 0.8288460543248946\n",
      "Test mse: 1.270768660169077\n"
     ]
    }
   ],
   "source": [
    "mf_sgd.calculate_learning_curve(iter_array, test, learning_rate = 0.001)"
   ]
  },
  {
   "cell_type": "code",
   "execution_count": 73,
   "id": "5f60d88d-dd3c-40c3-8955-f009e63c4f89",
   "metadata": {},
   "outputs": [
    {
     "data": {
      "image/png": "[encoded data removed]",
      "text/plain": [
       "<Figure size 1152x576 with 1 Axes>"
      ]
     },
     "metadata": {
      "needs_background": "light"
     },
     "output_type": "display_data"
    }
   ],
   "source": [
    "plot_learning_curve(iter_array, mf_sgd)"
   ]
  },
  {
   "cell_type": "code",
   "execution_count": 74,
   "id": "55922ba2-abeb-425b-aa7c-6a44f869cbe0",
   "metadata": {},
   "outputs": [
    {
     "name": "stdout",
     "output_type": "stream",
     "text": [
      "Iteration: 200\n",
      "Current iteration: 10\n",
      "Current iteration: 20\n",
      "Current iteration: 30\n",
      "Current iteration: 40\n",
      "Current iteration: 50\n",
      "Current iteration: 60\n",
      "Current iteration: 70\n",
      "Current iteration: 80\n",
      "Current iteration: 90\n",
      "Current iteration: 100\n",
      "Current iteration: 110\n",
      "Current iteration: 120\n",
      "Current iteration: 130\n",
      "Current iteration: 140\n",
      "Current iteration: 150\n",
      "Current iteration: 160\n",
      "Current iteration: 170\n",
      "Current iteration: 180\n",
      "Current iteration: 190\n",
      "Current iteration: 200\n",
      "Train mse: 0.797333857802091\n",
      "Test mse: 1.2641871624500873\n"
     ]
    }
   ],
   "source": [
    "mf_sgd = ExplicitMF(train, 80, learning = 'sgd', verbose = True)\n",
    "mf_sgd.calculate_learning_curve([200], test, learning_rate = 0.01)"
   ]
  },
  {
   "cell_type": "markdown",
   "id": "4917236d-3e73-47fe-8daa-e447a93196ff",
   "metadata": {},
   "source": [
    "## **Functions**"
   ]
  },
  {
   "cell_type": "code",
   "execution_count": 7,
   "id": "cfe79c0d-f06b-40a5-bdd5-8662918b4d36",
   "metadata": {},
   "outputs": [],
   "source": [
    "def get_mean_squared_error(pred, actual):\n",
    "    \n",
    "    # Ignoring the nonzero terms.\n",
    "    \n",
    "    pred = pred[actual.nonzero()].flatten()\n",
    "    actual = actual[actual.nonzero()].flatten()\n",
    "    \n",
    "    return mean_squared_error(pred, actual)\n",
    "\n",
    "def get_mse(pred, actual):\n",
    "    \n",
    "    # Ignoring the nonzero terms.\n",
    "    \n",
    "    pred = pred[actual.nonzero()].flatten()\n",
    "    actual = actual[actual.nonzero()].flatten()\n",
    "    \n",
    "    return mean_squared_error(pred, actual)"
   ]
  },
  {
   "cell_type": "code",
   "execution_count": 8,
   "id": "f51d8af3-b750-4d31-b954-1d8f585f849e",
   "metadata": {},
   "outputs": [],
   "source": [
    "def train_test_split(M):\n",
    "    \n",
    "    train = M.copy()\n",
    "    test = np.zeros((M.shape[0], M.shape[1]))\n",
    "    \n",
    "    for user in np.arange(M.shape[0]):\n",
    "        \n",
    "        test_ratings = np.random.choice( M[user, :].nonzero()[0], size = 10, replace = False)\n",
    "        \n",
    "        train[user, test_ratings] = 0\n",
    "        test[user, test_ratings] = M[user, test_ratings]\n",
    "        \n",
    "        assert(np.all((train * test) == 0))\n",
    "        \n",
    "        return train, test"
   ]
  },
  {
   "cell_type": "markdown",
   "id": "9541bfbb-f26c-4559-b509-2d51c77cbaa9",
   "metadata": {},
   "source": [
    "## Imports "
   ]
  },
  {
   "cell_type": "code",
   "execution_count": 1,
   "id": "89acb649-065e-4ac8-8cd2-5971a3f655f7",
   "metadata": {},
   "outputs": [],
   "source": [
    "import numpy as np\n",
    "from numpy import linalg"
   ]
  },
  {
   "cell_type": "code",
   "execution_count": 2,
   "id": "38b5b44f-9ab3-430a-a5d3-eec49f9fc9f2",
   "metadata": {},
   "outputs": [],
   "source": [
    "import pandas as pd"
   ]
  },
  {
   "cell_type": "code",
   "execution_count": 3,
   "id": "7784bb1b-84f4-42c1-ac69-b697f131b6c1",
   "metadata": {},
   "outputs": [],
   "source": [
    "import zipfile"
   ]
  },
  {
   "cell_type": "code",
   "execution_count": 4,
   "id": "29420232-956d-48f6-b71a-ff86cf0caf91",
   "metadata": {},
   "outputs": [],
   "source": [
    "from sklearn.metrics import mean_squared_error"
   ]
  },
  {
   "cell_type": "code",
   "execution_count": 5,
   "id": "2343cfa7-4eed-444f-900b-439c371ef0a0",
   "metadata": {},
   "outputs": [],
   "source": [
    "import matplotlib.pyplot as plt"
   ]
  },
  {
   "cell_type": "code",
   "execution_count": 6,
   "id": "b89f94ac-4430-4f7c-a2b0-d36ccc6581c1",
   "metadata": {},
   "outputs": [],
   "source": [
    "import seaborn as sns"
   ]
  },
  {
   "cell_type": "code",
   "execution_count": null,
   "id": "e3b2ef55-93b7-4d53-8ca0-8370e515ccdf",
   "metadata": {},
   "outputs": [],
   "source": []
  }
 ],
 "metadata": {
  "kernelspec": {
   "display_name": "Python 3",
   "language": "python",
   "name": "python3"
  },
  "language_info": {
   "codemirror_mode": {
    "name": "ipython",
    "version": 3
   },
   "file_extension": ".py",
   "mimetype": "text/x-python",
   "name": "python",
   "nbconvert_exporter": "python",
   "pygments_lexer": "ipython3",
   "version": "3.8.8"
  }
 },
 "nbformat": 4,
 "nbformat_minor": 5
}
