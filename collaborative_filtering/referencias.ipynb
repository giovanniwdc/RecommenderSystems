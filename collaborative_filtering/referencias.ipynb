{
 "cells": [
  {
   "cell_type": "markdown",
   "id": "0846f84c-f69a-45c5-a30e-ebec09c5ef09",
   "metadata": {},
   "source": [
    "# **Referências**"
   ]
  },
  {
   "cell_type": "markdown",
   "id": "a25e53a0-5680-475f-aa67-b5ce22714c05",
   "metadata": {},
   "source": [
    " - [Introduction to Recommender Systems](https://towardsdatascience.com/introduction-to-recommender-systems-6c66cf15ada)\n",
    " \n",
    " - [Collaborative Filtering](https://www.ethanrosenthal.com/2015/11/02/intro-to-collaborative-filtering/)\n",
    " \n",
    " - [Singular Value Decomposition (Curso: Não necessário)](https://www.youtube.com/watch?v=gXbThCXjZFM&list=PLMrJAkhIeNNSVjnsviglFoY2nXildDCcv&index=1)\n",
    " \n",
    " - [Matrix Factorization](https://www.ethanrosenthal.com/2016/01/09/explicit-matrix-factorization-sgd-als/)\n",
    " \n",
    " - [Intuitions on L1 and L2 Regularisation](https://towardsdatascience.com/intuitions-on-l1-and-l2-regularisation-235f2db4c261)\n",
    " \n",
    " - [Lasso and Ridge Regularization](https://medium.com/@dk13093/lasso-and-ridge-regularization-7b7b847bce34)\n",
    " \n",
    " - [L1 and L2 Regularization](https://medium.datadriveninvestor.com/l1-l2-regularization-7f1b4fe948f2) \n",
    " \n",
    " - [Regularization Part 1: Ridge (L2) Regression](https://www.youtube.com/watch?v=Q81RR3yKn30)\n",
    " \n",
    " - [Regularization Part 2: Lasso (L1) Regression](https://www.youtube.com/watch?v=NGf0voTMlcs)\n",
    " \n",
    " - [Beginner Tutorial: Recommender Systems in Python](https://www.datacamp.com/community/tutorials/recommender-systems-python)\n",
    " \n",
    " - [Two examples of a content-based recommendation system](https://towardsdatascience.com/two-examples-of-a-content-based-recommendation-system-with-the-most-efficient-array-functions-93899113a890)\n",
    " \n",
    " - [A Content-Based Recommender for E-Commerce Web Store](https://towardsdatascience.com/a-content-based-recommender-for-e-commerce-web-store-7554b5b73eac)"
   ]
  },
  {
   "cell_type": "raw",
   "id": "4a27fc47-587f-498b-b17b-e228a3a68921",
   "metadata": {},
   "source": []
  }
 ],
 "metadata": {
  "kernelspec": {
   "display_name": "Python 3",
   "language": "python",
   "name": "python3"
  },
  "language_info": {
   "codemirror_mode": {
    "name": "ipython",
    "version": 3
   },
   "file_extension": ".py",
   "mimetype": "text/x-python",
   "name": "python",
   "nbconvert_exporter": "python",
   "pygments_lexer": "ipython3",
   "version": "3.8.8"
  }
 },
 "nbformat": 4,
 "nbformat_minor": 5
}
