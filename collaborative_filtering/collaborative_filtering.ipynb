{
 "cells": [
  {
   "cell_type": "markdown",
   "id": "bf2c889e-8e21-4489-b6be-350d5affa63c",
   "metadata": {},
   "source": [
    "# Introduction to Recommender Systems: Collaborative Filtering"
   ]
  },
  {
   "cell_type": "markdown",
   "id": "1fabdce1-626f-4d8b-a8cb-7b19f7e24240",
   "metadata": {},
   "source": [
    "[Reference](https://www.ethanrosenthal.com/2015/11/02/intro-to-collaborative-filtering/)"
   ]
  },
  {
   "cell_type": "markdown",
   "id": "c4e731e1-1c4e-4ed7-b7be-7d485e74b608",
   "metadata": {},
   "source": [
    "## Downloading The Data: MovieLens dataset"
   ]
  },
  {
   "cell_type": "code",
   "execution_count": 10,
   "id": "d8afb2f7-e547-4bae-925e-8864231226b0",
   "metadata": {},
   "outputs": [
    {
     "name": "stderr",
     "output_type": "stream",
     "text": [
      "  % Total    % Received % Xferd  Average Speed   Time    Time     Time  Current\n",
      "                                 Dload  Upload   Total   Spent    Left  Speed\n",
      "\n",
      "  0     0    0     0    0     0      0      0 --:--:-- --:--:-- --:--:--     0\n",
      "  0     0    0     0    0     0      0      0 --:--:-- --:--:-- --:--:--     0\n",
      "  0 4808k    0 20161    0     0  12808      0  0:06:24  0:00:01  0:06:23 12808\n",
      " 24 4808k   24 1163k    0     0   455k      0  0:00:10  0:00:02  0:00:08  455k\n",
      "100 4808k  100 4808k    0     0  1644k      0  0:00:02  0:00:02 --:--:-- 1643k\n"
     ]
    }
   ],
   "source": [
    "! curl -O http://files.grouplens.org/datasets/movielens/ml-100k.zip"
   ]
  },
  {
   "cell_type": "code",
   "execution_count": 13,
   "id": "6f013c72-e24c-4755-a89b-94bb250380a2",
   "metadata": {},
   "outputs": [],
   "source": [
    "with zipfile.ZipFile('ml-100k.zip', 'r') as zip_ref:\n",
    "    zip_ref.extractall('')"
   ]
  },
  {
   "cell_type": "markdown",
   "id": "661cc103-64cf-445d-9732-d36af086d1d3",
   "metadata": {},
   "source": [
    "## Loading The Data"
   ]
  },
  {
   "cell_type": "code",
   "execution_count": 172,
   "id": "1f5d5597-5a3b-41e1-9882-cb12b7f16838",
   "metadata": {},
   "outputs": [],
   "source": [
    "names = ['user_id', 'item_id', 'rating', 'timestamp']"
   ]
  },
  {
   "cell_type": "code",
   "execution_count": 173,
   "id": "66cb43c4-6916-4e35-a36f-690438c78f83",
   "metadata": {},
   "outputs": [
    {
     "data": {
      "text/html": [
       "<div>\n",
       "<style scoped>\n",
       "    .dataframe tbody tr th:only-of-type {\n",
       "        vertical-align: middle;\n",
       "    }\n",
       "\n",
       "    .dataframe tbody tr th {\n",
       "        vertical-align: top;\n",
       "    }\n",
       "\n",
       "    .dataframe thead th {\n",
       "        text-align: right;\n",
       "    }\n",
       "</style>\n",
       "<table border=\"1\" class=\"dataframe\">\n",
       "  <thead>\n",
       "    <tr style=\"text-align: right;\">\n",
       "      <th></th>\n",
       "      <th>user_id</th>\n",
       "      <th>item_id</th>\n",
       "      <th>rating</th>\n",
       "      <th>timestamp</th>\n",
       "    </tr>\n",
       "  </thead>\n",
       "  <tbody>\n",
       "    <tr>\n",
       "      <th>0</th>\n",
       "      <td>196</td>\n",
       "      <td>242</td>\n",
       "      <td>3</td>\n",
       "      <td>881250949</td>\n",
       "    </tr>\n",
       "    <tr>\n",
       "      <th>1</th>\n",
       "      <td>186</td>\n",
       "      <td>302</td>\n",
       "      <td>3</td>\n",
       "      <td>891717742</td>\n",
       "    </tr>\n",
       "    <tr>\n",
       "      <th>2</th>\n",
       "      <td>22</td>\n",
       "      <td>377</td>\n",
       "      <td>1</td>\n",
       "      <td>878887116</td>\n",
       "    </tr>\n",
       "    <tr>\n",
       "      <th>3</th>\n",
       "      <td>244</td>\n",
       "      <td>51</td>\n",
       "      <td>2</td>\n",
       "      <td>880606923</td>\n",
       "    </tr>\n",
       "    <tr>\n",
       "      <th>4</th>\n",
       "      <td>166</td>\n",
       "      <td>346</td>\n",
       "      <td>1</td>\n",
       "      <td>886397596</td>\n",
       "    </tr>\n",
       "  </tbody>\n",
       "</table>\n",
       "</div>"
      ],
      "text/plain": [
       "   user_id  item_id  rating  timestamp\n",
       "0      196      242       3  881250949\n",
       "1      186      302       3  891717742\n",
       "2       22      377       1  878887116\n",
       "3      244       51       2  880606923\n",
       "4      166      346       1  886397596"
      ]
     },
     "execution_count": 173,
     "metadata": {},
     "output_type": "execute_result"
    }
   ],
   "source": [
    "df = pd.read_csv(\"ml-100k/u.data\", sep = '\\t', names = names)\n",
    "df.head()"
   ]
  },
  {
   "cell_type": "markdown",
   "id": "0bd6111b-77e4-4cf9-ab15-70a42b617169",
   "metadata": {},
   "source": [
    "checking the unique values of items and users"
   ]
  },
  {
   "cell_type": "code",
   "execution_count": 174,
   "id": "e8baf956-3afe-421f-b39e-599beaeb59f1",
   "metadata": {},
   "outputs": [
    {
     "name": "stdout",
     "output_type": "stream",
     "text": [
      "Number of:\n",
      " -Users: 943\n",
      " -Items: 1682\n"
     ]
    }
   ],
   "source": [
    "n_users = df.user_id.unique().shape[0]\n",
    "n_items = df.item_id.unique().shape[0]\n",
    "\n",
    "print(f'Number of:\\n -Users: {n_users}\\n -Items: {n_items}')"
   ]
  },
  {
   "cell_type": "markdown",
   "id": "de4bf95b-5f38-4468-9aa1-8242eb29a6de",
   "metadata": {},
   "source": [
    "## Feature Engineering"
   ]
  },
  {
   "cell_type": "markdown",
   "id": "2cc38cd8-ad00-424b-8e91-764e7d42cdf5",
   "metadata": {},
   "source": [
    "Creating the user-item matrix"
   ]
  },
  {
   "cell_type": "code",
   "execution_count": 175,
   "id": "658b89d0-cb45-4e04-8e81-bfca51fa87f9",
   "metadata": {},
   "outputs": [],
   "source": [
    "M = np.zeros((n_users, n_items))"
   ]
  },
  {
   "cell_type": "markdown",
   "id": "c8423c89-00f0-4272-bec4-62ab89b3d5d0",
   "metadata": {},
   "source": [
    "we subtract 1 of the user and item id's bacause they start at 1, so to is needed to mach with the numpy array index"
   ]
  },
  {
   "cell_type": "code",
   "execution_count": 176,
   "id": "c352c439-ac61-477d-8510-3b5dc3914629",
   "metadata": {},
   "outputs": [],
   "source": [
    "for row in df.itertuples(index = False):\n",
    "    \n",
    "    M[row[0]-1, row[1]-1] = row[2]"
   ]
  },
  {
   "cell_type": "code",
   "execution_count": 177,
   "id": "7c6a7c88-316a-4e02-8396-c2309f85edc3",
   "metadata": {},
   "outputs": [
    {
     "data": {
      "text/plain": [
       "array([[5., 3., 4., ..., 0., 0., 0.],\n",
       "       [4., 0., 0., ..., 0., 0., 0.],\n",
       "       [0., 0., 0., ..., 0., 0., 0.],\n",
       "       ...,\n",
       "       [5., 0., 0., ..., 0., 0., 0.],\n",
       "       [0., 0., 0., ..., 0., 0., 0.],\n",
       "       [0., 5., 0., ..., 0., 0., 0.]])"
      ]
     },
     "execution_count": 177,
     "metadata": {},
     "output_type": "execute_result"
    }
   ],
   "source": [
    "M"
   ]
  },
  {
   "cell_type": "code",
   "execution_count": 178,
   "id": "cb90d549-fca8-43fc-a857-833bccf8d51f",
   "metadata": {},
   "outputs": [
    {
     "name": "stdout",
     "output_type": "stream",
     "text": [
      "Sparsity: 6.30%\n"
     ]
    }
   ],
   "source": [
    "sparsity = len(M.nonzero()[0])\n",
    "sparsity /= (M.shape[0] * M.shape[1])\n",
    "\n",
    "sparsity *= 100\n",
    "\n",
    "print(f'Sparsity: {sparsity:.2f}%')"
   ]
  },
  {
   "cell_type": "markdown",
   "id": "6dab0f24-6192-4e4e-aaa2-5636dbb9c609",
   "metadata": {},
   "source": [
    "This means that $\\sim$ 10% of your data is not an ampty value."
   ]
  },
  {
   "cell_type": "markdown",
   "id": "f3992241-f406-42a9-bd63-1afc8ae90048",
   "metadata": {},
   "source": [
    "## Creating The Train And Test Datasets"
   ]
  },
  {
   "cell_type": "code",
   "execution_count": 179,
   "id": "eed2b8ba-b30c-41bb-aef5-eaf97a8c1409",
   "metadata": {},
   "outputs": [],
   "source": [
    "train, test = train_test_split(M)"
   ]
  },
  {
   "cell_type": "markdown",
   "id": "4bd004fb-3ce9-4f1f-924d-0c398c9e85c5",
   "metadata": {},
   "source": [
    "## **Collaborative Filltering**"
   ]
  },
  {
   "cell_type": "code",
   "execution_count": 180,
   "id": "e518e563-a41e-4df5-9d05-9df9a538bbf5",
   "metadata": {},
   "outputs": [
    {
     "name": "stdout",
     "output_type": "stream",
     "text": [
      "1.99 s ± 24.7 ms per loop (mean ± std. dev. of 7 runs, 1 loop each)\n"
     ]
    }
   ],
   "source": [
    "%timeit similarity(train, kind='user')"
   ]
  },
  {
   "cell_type": "code",
   "execution_count": 181,
   "id": "0575fb0e-681c-42df-b68d-8056a10fe3e4",
   "metadata": {},
   "outputs": [],
   "source": [
    "user_similarity = similarity(train)\n",
    "item_similarity = similarity(train, kind = 'item')"
   ]
  },
  {
   "cell_type": "code",
   "execution_count": 182,
   "id": "0c2838ac-c0f8-4d90-8610-c3d088acd90a",
   "metadata": {},
   "outputs": [
    {
     "name": "stdout",
     "output_type": "stream",
     "text": [
      "[[1.         0.15254642 0.04837414 0.06559807]\n",
      " [0.15254642 1.         0.11059132 0.17812119]\n",
      " [0.04837414 0.11059132 1.         0.34415072]\n",
      " [0.06559807 0.17812119 0.34415072 1.        ]]\n"
     ]
    }
   ],
   "source": [
    "print(user_similarity[:4, :4])"
   ]
  },
  {
   "cell_type": "code",
   "execution_count": 183,
   "id": "1890b998-8819-489e-a59d-2798784cb88c",
   "metadata": {},
   "outputs": [
    {
     "name": "stdout",
     "output_type": "stream",
     "text": [
      "[[1.         0.40238218 0.33024479 0.45493792]\n",
      " [0.40238218 1.         0.27306918 0.50257077]\n",
      " [0.33024479 0.27306918 1.         0.32486639]\n",
      " [0.45493792 0.50257077 0.32486639 1.        ]]\n"
     ]
    }
   ],
   "source": [
    "print(item_similarity[:4, :4])"
   ]
  },
  {
   "cell_type": "markdown",
   "id": "def8c640-eac7-4e5d-a230-e4ba81298b57",
   "metadata": {},
   "source": [
    "## Prediction"
   ]
  },
  {
   "cell_type": "code",
   "execution_count": 184,
   "id": "d4fec269-1b77-4b66-b0e0-517d6065d90f",
   "metadata": {},
   "outputs": [],
   "source": [
    "pred_users = predict(train, user_similarity)"
   ]
  },
  {
   "cell_type": "code",
   "execution_count": 185,
   "id": "50fdf128-58da-43db-b262-5601efbc754b",
   "metadata": {},
   "outputs": [],
   "source": [
    "pred_items = predict(train, item_similarity, kind = 'item')"
   ]
  },
  {
   "cell_type": "markdown",
   "id": "e0d952ab-1191-43ce-b2d8-2a1da20a1539",
   "metadata": {},
   "source": [
    "## Validation"
   ]
  },
  {
   "cell_type": "code",
   "execution_count": 186,
   "id": "118db678-bbcc-4d08-a806-fc4c100d0058",
   "metadata": {},
   "outputs": [
    {
     "name": "stdout",
     "output_type": "stream",
     "text": [
      "User-Based MSE: 6.83\n",
      "Item-Based MSE: 8.08\n"
     ]
    }
   ],
   "source": [
    "print(f'User-Based MSE: {get_mean_squared_error(pred_users, test):.2f}')\n",
    "print(f'Item-Based MSE: {get_mean_squared_error(pred_items, test):.2f}')"
   ]
  },
  {
   "cell_type": "markdown",
   "id": "8ac76473-6655-4f8f-9152-a67ca28bcd01",
   "metadata": {},
   "source": [
    "## **Top-K Collaborative Filtering**"
   ]
  },
  {
   "cell_type": "code",
   "execution_count": 187,
   "id": "ce1be2f1-3ac0-46c1-8ea5-a89783cc2b9b",
   "metadata": {},
   "outputs": [
    {
     "name": "stderr",
     "output_type": "stream",
     "text": [
      "<ipython-input-167-dc9439dfc211>:13: FutureWarning: Using a non-tuple sequence for multidimensional indexing is deprecated; use `arr[tuple(seq)]` instead of `arr[seq]`. In the future this will be interpreted as an array index, `arr[np.array(seq)]`, which will result either in an error or a different result.\n",
      "  pred[i, j] = similarity[i, :][top_k_users].dot(ratings[:, j][top_k_users])\n",
      "<ipython-input-167-dc9439dfc211>:14: FutureWarning: Using a non-tuple sequence for multidimensional indexing is deprecated; use `arr[tuple(seq)]` instead of `arr[seq]`. In the future this will be interpreted as an array index, `arr[np.array(seq)]`, which will result either in an error or a different result.\n",
      "  pred[i, j] /= np.sum(np.abs(similarity[i, :][top_k_users]))\n"
     ]
    }
   ],
   "source": [
    "pred_user = predict_ktop(train, user_similarity)"
   ]
  },
  {
   "cell_type": "code",
   "execution_count": 188,
   "id": "5fada1e9-025f-472b-92ff-ce73c14bce04",
   "metadata": {},
   "outputs": [
    {
     "name": "stderr",
     "output_type": "stream",
     "text": [
      "<ipython-input-167-dc9439dfc211>:24: FutureWarning: Using a non-tuple sequence for multidimensional indexing is deprecated; use `arr[tuple(seq)]` instead of `arr[seq]`. In the future this will be interpreted as an array index, `arr[np.array(seq)]`, which will result either in an error or a different result.\n",
      "  pred[i, j] = similarity[j, :][top_k_users].dot(ratings[i, :][top_k_users].T)\n",
      "<ipython-input-167-dc9439dfc211>:25: FutureWarning: Using a non-tuple sequence for multidimensional indexing is deprecated; use `arr[tuple(seq)]` instead of `arr[seq]`. In the future this will be interpreted as an array index, `arr[np.array(seq)]`, which will result either in an error or a different result.\n",
      "  pred[i, j] /= np.sum(np.abs(similarity[j, :][top_k_users]))\n"
     ]
    }
   ],
   "source": [
    "pred_item = predict_ktop(train, item_similarity, kind = 'item')"
   ]
  },
  {
   "cell_type": "code",
   "execution_count": 189,
   "id": "7c2c964f-23e4-4ca4-b469-8370c58b995b",
   "metadata": {},
   "outputs": [
    {
     "name": "stdout",
     "output_type": "stream",
     "text": [
      "Top-K User-Based CF MSE: 3.60\n",
      "Top-K Item-Based CF MSE: 2.39\n"
     ]
    }
   ],
   "source": [
    "print(f'Top-K User-Based CF MSE: {get_mean_squared_error(pred_user, test):.2f}')\n",
    "print(f'Top-K Item-Based CF MSE: {get_mean_squared_error(pred_item, test):.2f}')"
   ]
  },
  {
   "cell_type": "markdown",
   "id": "27607c88-c13c-42a9-8200-2517462d941f",
   "metadata": {},
   "source": [
    "## Tunning Parameter"
   ]
  },
  {
   "cell_type": "code",
   "execution_count": 190,
   "id": "612ebcb6-d460-4270-8fe8-8cdd31bb61ed",
   "metadata": {},
   "outputs": [],
   "source": [
    "k_tunning = [5, 15, 30, 50, 100, 200]"
   ]
  },
  {
   "cell_type": "code",
   "execution_count": 191,
   "id": "74422a1a-90f0-40c1-88b8-022829e54ef1",
   "metadata": {},
   "outputs": [],
   "source": [
    "user_train_mse = []\n",
    "user_test_mse = []\n",
    "\n",
    "item_train_mse = []\n",
    "item_test_mse = []"
   ]
  },
  {
   "cell_type": "code",
   "execution_count": 192,
   "id": "6be8a218-f1a8-4090-a752-355910ab039e",
   "metadata": {},
   "outputs": [
    {
     "name": "stderr",
     "output_type": "stream",
     "text": [
      "<ipython-input-167-dc9439dfc211>:13: FutureWarning: Using a non-tuple sequence for multidimensional indexing is deprecated; use `arr[tuple(seq)]` instead of `arr[seq]`. In the future this will be interpreted as an array index, `arr[np.array(seq)]`, which will result either in an error or a different result.\n",
      "  pred[i, j] = similarity[i, :][top_k_users].dot(ratings[:, j][top_k_users])\n",
      "<ipython-input-167-dc9439dfc211>:14: FutureWarning: Using a non-tuple sequence for multidimensional indexing is deprecated; use `arr[tuple(seq)]` instead of `arr[seq]`. In the future this will be interpreted as an array index, `arr[np.array(seq)]`, which will result either in an error or a different result.\n",
      "  pred[i, j] /= np.sum(np.abs(similarity[i, :][top_k_users]))\n",
      "<ipython-input-167-dc9439dfc211>:24: FutureWarning: Using a non-tuple sequence for multidimensional indexing is deprecated; use `arr[tuple(seq)]` instead of `arr[seq]`. In the future this will be interpreted as an array index, `arr[np.array(seq)]`, which will result either in an error or a different result.\n",
      "  pred[i, j] = similarity[j, :][top_k_users].dot(ratings[i, :][top_k_users].T)\n",
      "<ipython-input-167-dc9439dfc211>:25: FutureWarning: Using a non-tuple sequence for multidimensional indexing is deprecated; use `arr[tuple(seq)]` instead of `arr[seq]`. In the future this will be interpreted as an array index, `arr[np.array(seq)]`, which will result either in an error or a different result.\n",
      "  pred[i, j] /= np.sum(np.abs(similarity[j, :][top_k_users]))\n",
      "<ipython-input-167-dc9439dfc211>:13: FutureWarning: Using a non-tuple sequence for multidimensional indexing is deprecated; use `arr[tuple(seq)]` instead of `arr[seq]`. In the future this will be interpreted as an array index, `arr[np.array(seq)]`, which will result either in an error or a different result.\n",
      "  pred[i, j] = similarity[i, :][top_k_users].dot(ratings[:, j][top_k_users])\n",
      "<ipython-input-167-dc9439dfc211>:14: FutureWarning: Using a non-tuple sequence for multidimensional indexing is deprecated; use `arr[tuple(seq)]` instead of `arr[seq]`. In the future this will be interpreted as an array index, `arr[np.array(seq)]`, which will result either in an error or a different result.\n",
      "  pred[i, j] /= np.sum(np.abs(similarity[i, :][top_k_users]))\n",
      "<ipython-input-167-dc9439dfc211>:24: FutureWarning: Using a non-tuple sequence for multidimensional indexing is deprecated; use `arr[tuple(seq)]` instead of `arr[seq]`. In the future this will be interpreted as an array index, `arr[np.array(seq)]`, which will result either in an error or a different result.\n",
      "  pred[i, j] = similarity[j, :][top_k_users].dot(ratings[i, :][top_k_users].T)\n",
      "<ipython-input-167-dc9439dfc211>:25: FutureWarning: Using a non-tuple sequence for multidimensional indexing is deprecated; use `arr[tuple(seq)]` instead of `arr[seq]`. In the future this will be interpreted as an array index, `arr[np.array(seq)]`, which will result either in an error or a different result.\n",
      "  pred[i, j] /= np.sum(np.abs(similarity[j, :][top_k_users]))\n",
      "<ipython-input-167-dc9439dfc211>:13: FutureWarning: Using a non-tuple sequence for multidimensional indexing is deprecated; use `arr[tuple(seq)]` instead of `arr[seq]`. In the future this will be interpreted as an array index, `arr[np.array(seq)]`, which will result either in an error or a different result.\n",
      "  pred[i, j] = similarity[i, :][top_k_users].dot(ratings[:, j][top_k_users])\n",
      "<ipython-input-167-dc9439dfc211>:14: FutureWarning: Using a non-tuple sequence for multidimensional indexing is deprecated; use `arr[tuple(seq)]` instead of `arr[seq]`. In the future this will be interpreted as an array index, `arr[np.array(seq)]`, which will result either in an error or a different result.\n",
      "  pred[i, j] /= np.sum(np.abs(similarity[i, :][top_k_users]))\n",
      "<ipython-input-167-dc9439dfc211>:24: FutureWarning: Using a non-tuple sequence for multidimensional indexing is deprecated; use `arr[tuple(seq)]` instead of `arr[seq]`. In the future this will be interpreted as an array index, `arr[np.array(seq)]`, which will result either in an error or a different result.\n",
      "  pred[i, j] = similarity[j, :][top_k_users].dot(ratings[i, :][top_k_users].T)\n",
      "<ipython-input-167-dc9439dfc211>:25: FutureWarning: Using a non-tuple sequence for multidimensional indexing is deprecated; use `arr[tuple(seq)]` instead of `arr[seq]`. In the future this will be interpreted as an array index, `arr[np.array(seq)]`, which will result either in an error or a different result.\n",
      "  pred[i, j] /= np.sum(np.abs(similarity[j, :][top_k_users]))\n",
      "<ipython-input-167-dc9439dfc211>:13: FutureWarning: Using a non-tuple sequence for multidimensional indexing is deprecated; use `arr[tuple(seq)]` instead of `arr[seq]`. In the future this will be interpreted as an array index, `arr[np.array(seq)]`, which will result either in an error or a different result.\n",
      "  pred[i, j] = similarity[i, :][top_k_users].dot(ratings[:, j][top_k_users])\n",
      "<ipython-input-167-dc9439dfc211>:14: FutureWarning: Using a non-tuple sequence for multidimensional indexing is deprecated; use `arr[tuple(seq)]` instead of `arr[seq]`. In the future this will be interpreted as an array index, `arr[np.array(seq)]`, which will result either in an error or a different result.\n",
      "  pred[i, j] /= np.sum(np.abs(similarity[i, :][top_k_users]))\n",
      "<ipython-input-167-dc9439dfc211>:24: FutureWarning: Using a non-tuple sequence for multidimensional indexing is deprecated; use `arr[tuple(seq)]` instead of `arr[seq]`. In the future this will be interpreted as an array index, `arr[np.array(seq)]`, which will result either in an error or a different result.\n",
      "  pred[i, j] = similarity[j, :][top_k_users].dot(ratings[i, :][top_k_users].T)\n",
      "<ipython-input-167-dc9439dfc211>:25: FutureWarning: Using a non-tuple sequence for multidimensional indexing is deprecated; use `arr[tuple(seq)]` instead of `arr[seq]`. In the future this will be interpreted as an array index, `arr[np.array(seq)]`, which will result either in an error or a different result.\n",
      "  pred[i, j] /= np.sum(np.abs(similarity[j, :][top_k_users]))\n",
      "<ipython-input-167-dc9439dfc211>:13: FutureWarning: Using a non-tuple sequence for multidimensional indexing is deprecated; use `arr[tuple(seq)]` instead of `arr[seq]`. In the future this will be interpreted as an array index, `arr[np.array(seq)]`, which will result either in an error or a different result.\n",
      "  pred[i, j] = similarity[i, :][top_k_users].dot(ratings[:, j][top_k_users])\n",
      "<ipython-input-167-dc9439dfc211>:14: FutureWarning: Using a non-tuple sequence for multidimensional indexing is deprecated; use `arr[tuple(seq)]` instead of `arr[seq]`. In the future this will be interpreted as an array index, `arr[np.array(seq)]`, which will result either in an error or a different result.\n",
      "  pred[i, j] /= np.sum(np.abs(similarity[i, :][top_k_users]))\n",
      "<ipython-input-167-dc9439dfc211>:24: FutureWarning: Using a non-tuple sequence for multidimensional indexing is deprecated; use `arr[tuple(seq)]` instead of `arr[seq]`. In the future this will be interpreted as an array index, `arr[np.array(seq)]`, which will result either in an error or a different result.\n",
      "  pred[i, j] = similarity[j, :][top_k_users].dot(ratings[i, :][top_k_users].T)\n",
      "<ipython-input-167-dc9439dfc211>:25: FutureWarning: Using a non-tuple sequence for multidimensional indexing is deprecated; use `arr[tuple(seq)]` instead of `arr[seq]`. In the future this will be interpreted as an array index, `arr[np.array(seq)]`, which will result either in an error or a different result.\n",
      "  pred[i, j] /= np.sum(np.abs(similarity[j, :][top_k_users]))\n",
      "<ipython-input-167-dc9439dfc211>:13: FutureWarning: Using a non-tuple sequence for multidimensional indexing is deprecated; use `arr[tuple(seq)]` instead of `arr[seq]`. In the future this will be interpreted as an array index, `arr[np.array(seq)]`, which will result either in an error or a different result.\n",
      "  pred[i, j] = similarity[i, :][top_k_users].dot(ratings[:, j][top_k_users])\n",
      "<ipython-input-167-dc9439dfc211>:14: FutureWarning: Using a non-tuple sequence for multidimensional indexing is deprecated; use `arr[tuple(seq)]` instead of `arr[seq]`. In the future this will be interpreted as an array index, `arr[np.array(seq)]`, which will result either in an error or a different result.\n",
      "  pred[i, j] /= np.sum(np.abs(similarity[i, :][top_k_users]))\n",
      "<ipython-input-167-dc9439dfc211>:24: FutureWarning: Using a non-tuple sequence for multidimensional indexing is deprecated; use `arr[tuple(seq)]` instead of `arr[seq]`. In the future this will be interpreted as an array index, `arr[np.array(seq)]`, which will result either in an error or a different result.\n",
      "  pred[i, j] = similarity[j, :][top_k_users].dot(ratings[i, :][top_k_users].T)\n",
      "<ipython-input-167-dc9439dfc211>:25: FutureWarning: Using a non-tuple sequence for multidimensional indexing is deprecated; use `arr[tuple(seq)]` instead of `arr[seq]`. In the future this will be interpreted as an array index, `arr[np.array(seq)]`, which will result either in an error or a different result.\n",
      "  pred[i, j] /= np.sum(np.abs(similarity[j, :][top_k_users]))\n"
     ]
    }
   ],
   "source": [
    "for kt in k_tunning:\n",
    "\n",
    "    user_pred = predict_ktop(train, user_similarity, k = kt)\n",
    "    item_pred = predict_ktop(train, item_similarity, kind = 'item', k = kt)\n",
    "    \n",
    "    user_train_mse += [get_mean_squared_error(user_pred, train)]\n",
    "    item_train_mse += [get_mean_squared_error(item_pred, train)]\n",
    "    \n",
    "    user_test_mse += [get_mean_squared_error(user_pred, test)]\n",
    "    item_test_mse += [get_mean_squared_error(item_pred, test)]"
   ]
  },
  {
   "cell_type": "code",
   "execution_count": 193,
   "id": "4794e7e9-6063-47c3-b14c-c2e1b8b9f3d5",
   "metadata": {},
   "outputs": [
    {
     "data": {
      "image/png": "[encoded data removed]",
      "text/plain": [
       "<Figure size 576x576 with 1 Axes>"
      ]
     },
     "metadata": {},
     "output_type": "display_data"
    }
   ],
   "source": [
    "sns.set()\n",
    "\n",
    "pal = sns.color_palette(\"Set2\", 2)\n",
    "\n",
    "plt.figure(figsize=(8, 8))\n",
    "plt.plot(k_tunning, user_train_mse, c=pal[0], label='User-based train', alpha=0.5, linewidth=5)\n",
    "plt.plot(k_tunning, user_test_mse, c=pal[0], label='User-based test', linewidth=5)\n",
    "plt.plot(k_tunning, item_train_mse, c=pal[1], label='Item-based train', alpha=0.5, linewidth=5)\n",
    "plt.plot(k_tunning, item_test_mse, c=pal[1], label='Item-based test', linewidth=5)\n",
    "plt.legend(loc='best', fontsize=20)\n",
    "plt.xticks(fontsize=16);\n",
    "plt.yticks(fontsize=16);\n",
    "plt.xlabel('k', fontsize=30);\n",
    "plt.ylabel('MSE', fontsize=30);"
   ]
  },
  {
   "cell_type": "markdown",
   "id": "c38c15ae-625b-4bd6-94f9-caad600d9e67",
   "metadata": {},
   "source": [
    "## **Bais-Subtracted Collaborative Filtering**"
   ]
  },
  {
   "cell_type": "code",
   "execution_count": 199,
   "id": "80ce32dd-63b1-4cf5-98ea-812af17e07a2",
   "metadata": {},
   "outputs": [],
   "source": [
    "nobias_user = predict_nobias(train, user_similarity)\n",
    "nobias_item = predict_nobias(train, item_similarity, kind = 'item')"
   ]
  },
  {
   "cell_type": "code",
   "execution_count": 200,
   "id": "f7d20d90-5593-46ec-86b4-d36975fa1d46",
   "metadata": {},
   "outputs": [
    {
     "name": "stdout",
     "output_type": "stream",
     "text": [
      "Bias-subtracted User-based CF MSE: 5.68\n",
      "Bias-subtracted Item-based CF MSE: 5.49\n"
     ]
    }
   ],
   "source": [
    "print(f'Bias-subtracted User-based CF MSE: {get_mean_squared_error(nobias_user, test):.2f}')\n",
    "print(f'Bias-subtracted Item-based CF MSE: {get_mean_squared_error(nobias_item, test):.2f}')"
   ]
  },
  {
   "cell_type": "markdown",
   "id": "1b167c32-4228-40fc-8964-d3e7a98a067a",
   "metadata": {},
   "source": [
    "## **Top-K With Bias-subtracted**"
   ]
  },
  {
   "cell_type": "code",
   "execution_count": 203,
   "id": "129f3b02-ca7c-47ae-9fe7-6fff48d6aced",
   "metadata": {},
   "outputs": [
    {
     "name": "stderr",
     "output_type": "stream",
     "text": [
      "<ipython-input-202-3c6cc31c829a>:17: FutureWarning: Using a non-tuple sequence for multidimensional indexing is deprecated; use `arr[tuple(seq)]` instead of `arr[seq]`. In the future this will be interpreted as an array index, `arr[np.array(seq)]`, which will result either in an error or a different result.\n",
      "  pred[i, j] = similarity[i, :][top_k_users].dot(ratings[:, j][top_k_users])\n",
      "<ipython-input-202-3c6cc31c829a>:18: FutureWarning: Using a non-tuple sequence for multidimensional indexing is deprecated; use `arr[tuple(seq)]` instead of `arr[seq]`. In the future this will be interpreted as an array index, `arr[np.array(seq)]`, which will result either in an error or a different result.\n",
      "  pred[i, j] /= np.sum(np.abs(similarity[i, :][top_k_users]))\n",
      "<ipython-input-202-3c6cc31c829a>:34: FutureWarning: Using a non-tuple sequence for multidimensional indexing is deprecated; use `arr[tuple(seq)]` instead of `arr[seq]`. In the future this will be interpreted as an array index, `arr[np.array(seq)]`, which will result either in an error or a different result.\n",
      "  pred[i, j] = similarity[j, :][top_k_users].dot(ratings[i, :][top_k_users].T)\n",
      "<ipython-input-202-3c6cc31c829a>:35: FutureWarning: Using a non-tuple sequence for multidimensional indexing is deprecated; use `arr[tuple(seq)]` instead of `arr[seq]`. In the future this will be interpreted as an array index, `arr[np.array(seq)]`, which will result either in an error or a different result.\n",
      "  pred[i, j] /= np.sum(np.abs(similarity[j, :][top_k_users]))\n"
     ]
    }
   ],
   "source": [
    "ktop_nobias_user = predict_ktop_nobias(train, user_similarity)\n",
    "ktop_nobias_item = predict_ktop_nobias(train, item_similarity, kind = 'item')"
   ]
  },
  {
   "cell_type": "code",
   "execution_count": 204,
   "id": "dc629c31-921d-4997-b7c9-d1264d30b16a",
   "metadata": {},
   "outputs": [
    {
     "name": "stdout",
     "output_type": "stream",
     "text": [
      "Top-K Bias-subtracted User-based CF MSE: 3.69\n",
      "Top-K Bias-subtracted Item-based CF MSE: 2.66\n"
     ]
    }
   ],
   "source": [
    "print(f'Top-K Bias-subtracted User-based CF MSE: {get_mean_squared_error(ktop_nobias_user, test):.2f}')\n",
    "print(f'Top-K Bias-subtracted Item-based CF MSE: {get_mean_squared_error(ktop_nobias_item, test):.2f}')"
   ]
  },
  {
   "cell_type": "code",
   "execution_count": 205,
   "id": "f8b561b2-e446-47b5-8097-36e650bd6db1",
   "metadata": {},
   "outputs": [
    {
     "name": "stderr",
     "output_type": "stream",
     "text": [
      "<ipython-input-202-3c6cc31c829a>:17: FutureWarning: Using a non-tuple sequence for multidimensional indexing is deprecated; use `arr[tuple(seq)]` instead of `arr[seq]`. In the future this will be interpreted as an array index, `arr[np.array(seq)]`, which will result either in an error or a different result.\n",
      "  pred[i, j] = similarity[i, :][top_k_users].dot(ratings[:, j][top_k_users])\n",
      "<ipython-input-202-3c6cc31c829a>:18: FutureWarning: Using a non-tuple sequence for multidimensional indexing is deprecated; use `arr[tuple(seq)]` instead of `arr[seq]`. In the future this will be interpreted as an array index, `arr[np.array(seq)]`, which will result either in an error or a different result.\n",
      "  pred[i, j] /= np.sum(np.abs(similarity[i, :][top_k_users]))\n",
      "<ipython-input-202-3c6cc31c829a>:34: FutureWarning: Using a non-tuple sequence for multidimensional indexing is deprecated; use `arr[tuple(seq)]` instead of `arr[seq]`. In the future this will be interpreted as an array index, `arr[np.array(seq)]`, which will result either in an error or a different result.\n",
      "  pred[i, j] = similarity[j, :][top_k_users].dot(ratings[i, :][top_k_users].T)\n",
      "<ipython-input-202-3c6cc31c829a>:35: FutureWarning: Using a non-tuple sequence for multidimensional indexing is deprecated; use `arr[tuple(seq)]` instead of `arr[seq]`. In the future this will be interpreted as an array index, `arr[np.array(seq)]`, which will result either in an error or a different result.\n",
      "  pred[i, j] /= np.sum(np.abs(similarity[j, :][top_k_users]))\n",
      "<ipython-input-202-3c6cc31c829a>:17: FutureWarning: Using a non-tuple sequence for multidimensional indexing is deprecated; use `arr[tuple(seq)]` instead of `arr[seq]`. In the future this will be interpreted as an array index, `arr[np.array(seq)]`, which will result either in an error or a different result.\n",
      "  pred[i, j] = similarity[i, :][top_k_users].dot(ratings[:, j][top_k_users])\n",
      "<ipython-input-202-3c6cc31c829a>:18: FutureWarning: Using a non-tuple sequence for multidimensional indexing is deprecated; use `arr[tuple(seq)]` instead of `arr[seq]`. In the future this will be interpreted as an array index, `arr[np.array(seq)]`, which will result either in an error or a different result.\n",
      "  pred[i, j] /= np.sum(np.abs(similarity[i, :][top_k_users]))\n",
      "<ipython-input-202-3c6cc31c829a>:34: FutureWarning: Using a non-tuple sequence for multidimensional indexing is deprecated; use `arr[tuple(seq)]` instead of `arr[seq]`. In the future this will be interpreted as an array index, `arr[np.array(seq)]`, which will result either in an error or a different result.\n",
      "  pred[i, j] = similarity[j, :][top_k_users].dot(ratings[i, :][top_k_users].T)\n",
      "<ipython-input-202-3c6cc31c829a>:35: FutureWarning: Using a non-tuple sequence for multidimensional indexing is deprecated; use `arr[tuple(seq)]` instead of `arr[seq]`. In the future this will be interpreted as an array index, `arr[np.array(seq)]`, which will result either in an error or a different result.\n",
      "  pred[i, j] /= np.sum(np.abs(similarity[j, :][top_k_users]))\n",
      "<ipython-input-202-3c6cc31c829a>:17: FutureWarning: Using a non-tuple sequence for multidimensional indexing is deprecated; use `arr[tuple(seq)]` instead of `arr[seq]`. In the future this will be interpreted as an array index, `arr[np.array(seq)]`, which will result either in an error or a different result.\n",
      "  pred[i, j] = similarity[i, :][top_k_users].dot(ratings[:, j][top_k_users])\n",
      "<ipython-input-202-3c6cc31c829a>:18: FutureWarning: Using a non-tuple sequence for multidimensional indexing is deprecated; use `arr[tuple(seq)]` instead of `arr[seq]`. In the future this will be interpreted as an array index, `arr[np.array(seq)]`, which will result either in an error or a different result.\n",
      "  pred[i, j] /= np.sum(np.abs(similarity[i, :][top_k_users]))\n",
      "<ipython-input-202-3c6cc31c829a>:34: FutureWarning: Using a non-tuple sequence for multidimensional indexing is deprecated; use `arr[tuple(seq)]` instead of `arr[seq]`. In the future this will be interpreted as an array index, `arr[np.array(seq)]`, which will result either in an error or a different result.\n",
      "  pred[i, j] = similarity[j, :][top_k_users].dot(ratings[i, :][top_k_users].T)\n",
      "<ipython-input-202-3c6cc31c829a>:35: FutureWarning: Using a non-tuple sequence for multidimensional indexing is deprecated; use `arr[tuple(seq)]` instead of `arr[seq]`. In the future this will be interpreted as an array index, `arr[np.array(seq)]`, which will result either in an error or a different result.\n",
      "  pred[i, j] /= np.sum(np.abs(similarity[j, :][top_k_users]))\n",
      "<ipython-input-202-3c6cc31c829a>:17: FutureWarning: Using a non-tuple sequence for multidimensional indexing is deprecated; use `arr[tuple(seq)]` instead of `arr[seq]`. In the future this will be interpreted as an array index, `arr[np.array(seq)]`, which will result either in an error or a different result.\n",
      "  pred[i, j] = similarity[i, :][top_k_users].dot(ratings[:, j][top_k_users])\n",
      "<ipython-input-202-3c6cc31c829a>:18: FutureWarning: Using a non-tuple sequence for multidimensional indexing is deprecated; use `arr[tuple(seq)]` instead of `arr[seq]`. In the future this will be interpreted as an array index, `arr[np.array(seq)]`, which will result either in an error or a different result.\n",
      "  pred[i, j] /= np.sum(np.abs(similarity[i, :][top_k_users]))\n",
      "<ipython-input-202-3c6cc31c829a>:34: FutureWarning: Using a non-tuple sequence for multidimensional indexing is deprecated; use `arr[tuple(seq)]` instead of `arr[seq]`. In the future this will be interpreted as an array index, `arr[np.array(seq)]`, which will result either in an error or a different result.\n",
      "  pred[i, j] = similarity[j, :][top_k_users].dot(ratings[i, :][top_k_users].T)\n",
      "<ipython-input-202-3c6cc31c829a>:35: FutureWarning: Using a non-tuple sequence for multidimensional indexing is deprecated; use `arr[tuple(seq)]` instead of `arr[seq]`. In the future this will be interpreted as an array index, `arr[np.array(seq)]`, which will result either in an error or a different result.\n",
      "  pred[i, j] /= np.sum(np.abs(similarity[j, :][top_k_users]))\n",
      "<ipython-input-202-3c6cc31c829a>:17: FutureWarning: Using a non-tuple sequence for multidimensional indexing is deprecated; use `arr[tuple(seq)]` instead of `arr[seq]`. In the future this will be interpreted as an array index, `arr[np.array(seq)]`, which will result either in an error or a different result.\n",
      "  pred[i, j] = similarity[i, :][top_k_users].dot(ratings[:, j][top_k_users])\n",
      "<ipython-input-202-3c6cc31c829a>:18: FutureWarning: Using a non-tuple sequence for multidimensional indexing is deprecated; use `arr[tuple(seq)]` instead of `arr[seq]`. In the future this will be interpreted as an array index, `arr[np.array(seq)]`, which will result either in an error or a different result.\n",
      "  pred[i, j] /= np.sum(np.abs(similarity[i, :][top_k_users]))\n",
      "<ipython-input-202-3c6cc31c829a>:34: FutureWarning: Using a non-tuple sequence for multidimensional indexing is deprecated; use `arr[tuple(seq)]` instead of `arr[seq]`. In the future this will be interpreted as an array index, `arr[np.array(seq)]`, which will result either in an error or a different result.\n",
      "  pred[i, j] = similarity[j, :][top_k_users].dot(ratings[i, :][top_k_users].T)\n",
      "<ipython-input-202-3c6cc31c829a>:35: FutureWarning: Using a non-tuple sequence for multidimensional indexing is deprecated; use `arr[tuple(seq)]` instead of `arr[seq]`. In the future this will be interpreted as an array index, `arr[np.array(seq)]`, which will result either in an error or a different result.\n",
      "  pred[i, j] /= np.sum(np.abs(similarity[j, :][top_k_users]))\n",
      "<ipython-input-202-3c6cc31c829a>:17: FutureWarning: Using a non-tuple sequence for multidimensional indexing is deprecated; use `arr[tuple(seq)]` instead of `arr[seq]`. In the future this will be interpreted as an array index, `arr[np.array(seq)]`, which will result either in an error or a different result.\n",
      "  pred[i, j] = similarity[i, :][top_k_users].dot(ratings[:, j][top_k_users])\n",
      "<ipython-input-202-3c6cc31c829a>:18: FutureWarning: Using a non-tuple sequence for multidimensional indexing is deprecated; use `arr[tuple(seq)]` instead of `arr[seq]`. In the future this will be interpreted as an array index, `arr[np.array(seq)]`, which will result either in an error or a different result.\n",
      "  pred[i, j] /= np.sum(np.abs(similarity[i, :][top_k_users]))\n",
      "<ipython-input-202-3c6cc31c829a>:34: FutureWarning: Using a non-tuple sequence for multidimensional indexing is deprecated; use `arr[tuple(seq)]` instead of `arr[seq]`. In the future this will be interpreted as an array index, `arr[np.array(seq)]`, which will result either in an error or a different result.\n",
      "  pred[i, j] = similarity[j, :][top_k_users].dot(ratings[i, :][top_k_users].T)\n",
      "<ipython-input-202-3c6cc31c829a>:35: FutureWarning: Using a non-tuple sequence for multidimensional indexing is deprecated; use `arr[tuple(seq)]` instead of `arr[seq]`. In the future this will be interpreted as an array index, `arr[np.array(seq)]`, which will result either in an error or a different result.\n",
      "  pred[i, j] /= np.sum(np.abs(similarity[j, :][top_k_users]))\n"
     ]
    }
   ],
   "source": [
    "k_array = [5, 15, 30, 50, 100, 200]\n",
    "\n",
    "user_train_mse = []\n",
    "user_test_mse = []\n",
    "item_test_mse = []\n",
    "item_train_mse = []\n",
    "\n",
    "for k in k_array:\n",
    "    user_pred = predict_ktop_nobias(train, user_similarity, kind='user', k=k)\n",
    "    item_pred = predict_ktop_nobias(train, item_similarity, kind='item', k=k)\n",
    "    \n",
    "    user_train_mse += [get_mean_squared_error(user_pred, train)]\n",
    "    user_test_mse += [get_mean_squared_error(user_pred, test)]\n",
    "    \n",
    "    item_train_mse += [get_mean_squared_error(item_pred, train)]\n",
    "    item_test_mse += [get_mean_squared_error(item_pred, test)]  "
   ]
  },
  {
   "cell_type": "code",
   "execution_count": 206,
   "id": "e5cc94ca-0cf8-4efc-85e4-799cb7bfdc25",
   "metadata": {},
   "outputs": [
    {
     "data": {
      "image/png": "[encoded data removed]",
      "text/plain": [
       "<Figure size 576x576 with 1 Axes>"
      ]
     },
     "metadata": {},
     "output_type": "display_data"
    }
   ],
   "source": [
    "pal = sns.color_palette(\"Set2\", 2)\n",
    "\n",
    "plt.figure(figsize=(8, 8))\n",
    "plt.plot(k_array, user_train_mse, c=pal[0], label='User-based train', alpha=0.5, linewidth=5)\n",
    "plt.plot(k_array, user_test_mse, c=pal[0], label='User-based test', linewidth=5)\n",
    "plt.plot(k_array, item_train_mse, c=pal[1], label='Item-based train', alpha=0.5, linewidth=5)\n",
    "plt.plot(k_array, item_test_mse, c=pal[1], label='Item-based test', linewidth=5)\n",
    "plt.legend(loc='best', fontsize=20)\n",
    "plt.xticks(fontsize=16);\n",
    "plt.yticks(fontsize=16);\n",
    "plt.xlabel('k', fontsize=30);\n",
    "plt.ylabel('MSE', fontsize=30);"
   ]
  },
  {
   "cell_type": "markdown",
   "id": "bacab806-8f51-409d-934e-307da52490d2",
   "metadata": {},
   "source": [
    "## **Functions**"
   ]
  },
  {
   "cell_type": "code",
   "execution_count": 202,
   "id": "37daf45c-a064-4533-b0d6-8782d81b253e",
   "metadata": {},
   "outputs": [],
   "source": [
    "def predict_ktop_nobias(ratings, similarity, kind = 'user', k = 40):\n",
    "    \n",
    "    pred = np.zeros(ratings.shape)\n",
    "    \n",
    "    if kind == 'user':\n",
    "        \n",
    "        user_bias = ratings.mean(axis = 1)\n",
    "        \n",
    "        ratings = (ratings - user_bias[:, np.newaxis]).copy()\n",
    "        \n",
    "        for i in np.arange(ratings.shape[0]):\n",
    "            \n",
    "            top_k_users = [np.argsort(similarity[:, i])[:-k-1:-1]]\n",
    "                        \n",
    "            for j in np.arange(ratings.shape[1]):\n",
    "                \n",
    "                pred[i, j] = similarity[i, :][top_k_users].dot(ratings[:, j][top_k_users]) \n",
    "                pred[i, j] /= np.sum(np.abs(similarity[i, :][top_k_users]))\n",
    "        \n",
    "        pred += user_bias[:, np.newaxis]\n",
    "    \n",
    "    if kind == 'item':\n",
    "        \n",
    "        item_bias = ratings.mean(axis = 0)\n",
    "        \n",
    "        ratings = (ratings - item_bias[np.newaxis, :]).copy()\n",
    "        \n",
    "        for j in np.arange(ratings.shape[1]):\n",
    "            \n",
    "            top_k_users = [np.argsort(similarity[:, j])[:-k-1:-1]]\n",
    "            \n",
    "            for i in np.arange(ratings.shape[0]):\n",
    "                \n",
    "                pred[i, j] = similarity[j, :][top_k_users].dot(ratings[i, :][top_k_users].T) \n",
    "                pred[i, j] /= np.sum(np.abs(similarity[j, :][top_k_users]))\n",
    "    \n",
    "        pred += item_bias[np.newaxis, :]\n",
    "        \n",
    "    return pred"
   ]
  },
  {
   "cell_type": "code",
   "execution_count": 198,
   "id": "9b8d4c8f-0e20-4a5a-856f-0f2d11ec3321",
   "metadata": {},
   "outputs": [],
   "source": [
    "def predict_nobias(ratings, similarity, kind = 'user'):\n",
    "    \n",
    "    if kind == 'user':\n",
    "        \n",
    "        user_bias = ratings.mean(axis = 1)\n",
    "        \n",
    "        ratings = (ratings - user_bias[:, np.newaxis]).copy()\n",
    "        \n",
    "        pred = similarity.dot(ratings) / np.array([np.abs(similarity).sum(axis = 1)]).T\n",
    "        pred += user_bias[:, np.newaxis]\n",
    "        \n",
    "    if kind == 'item':\n",
    "        \n",
    "        item_bias = ratings.mean(axis = 0)\n",
    "        \n",
    "        ratings = (ratings - item_bias[np.newaxis, :]).copy()\n",
    "        \n",
    "        pred = ratings.dot(similarity) / np.array([np.abs(similarity).sum(axis = 1)])\n",
    "        pred += item_bias[np.newaxis, :]\n",
    "    \n",
    "    return pred"
   ]
  },
  {
   "cell_type": "code",
   "execution_count": 167,
   "id": "fb9a30c8-7a7e-4e03-8901-5ec4fa8004ea",
   "metadata": {},
   "outputs": [],
   "source": [
    "def predict_ktop(ratings, similarity, kind = 'user', k = 40):\n",
    "    \n",
    "    pred = np.zeros(ratings.shape)\n",
    "    \n",
    "    if kind == 'user':\n",
    "        \n",
    "        for i in np.arange(ratings.shape[0]):\n",
    "            \n",
    "            top_k_users = [np.argsort(similarity[:, i])[:-k-1:-1]]\n",
    "                        \n",
    "            for j in np.arange(ratings.shape[1]):\n",
    "                \n",
    "                pred[i, j] = similarity[i, :][top_k_users].dot(ratings[:, j][top_k_users]) \n",
    "                pred[i, j] /= np.sum(np.abs(similarity[i, :][top_k_users]))\n",
    "    \n",
    "    if kind == 'item':\n",
    "        \n",
    "        for j in np.arange(ratings.shape[1]):\n",
    "            \n",
    "            top_k_users = [np.argsort(similarity[:, j])[:-k-1:-1]]\n",
    "            \n",
    "            for i in np.arange(ratings.shape[0]):\n",
    "                \n",
    "                pred[i, j] = similarity[j, :][top_k_users].dot(ratings[i, :][top_k_users].T) \n",
    "                pred[i, j] /= np.sum(np.abs(similarity[j, :][top_k_users]))\n",
    "    \n",
    "    return pred"
   ]
  },
  {
   "cell_type": "code",
   "execution_count": 168,
   "id": "4373f4a3-f20c-4610-9f19-9d4199cfaf81",
   "metadata": {},
   "outputs": [],
   "source": [
    "def get_mean_squared_error(pred, actual):\n",
    "    \n",
    "    # Ignoring the nonzero terms.\n",
    "    \n",
    "    pred = pred[actual.nonzero()].flatten()\n",
    "    actual = actual[actual.nonzero()].flatten()\n",
    "    \n",
    "    return mean_squared_error(pred, actual)\n",
    "    "
   ]
  },
  {
   "cell_type": "code",
   "execution_count": 169,
   "id": "70bdc480-c2f5-4a00-9df5-0836c0392821",
   "metadata": {},
   "outputs": [],
   "source": [
    "def predict(ratings, similarity, kind = 'user'):\n",
    "    \n",
    "    if kind == 'user':\n",
    "        return similarity.dot(ratings) / np.array([np.abs(similarity).sum(axis = 1)]).T\n",
    "    \n",
    "    if kind == 'item':\n",
    "        return ratings.dot(similarity) / np.array([np.abs(similarity).sum(axis = 1)])"
   ]
  },
  {
   "cell_type": "code",
   "execution_count": 170,
   "id": "4cd8649e-0c7d-488d-98b8-864d87996e79",
   "metadata": {},
   "outputs": [],
   "source": [
    "def similarity(ratings, kind = 'user', precision = 1e-9):\n",
    "    \n",
    "    if kind == 'user':\n",
    "        \n",
    "        dot = ratings.dot(ratings.T) + precision\n",
    "    \n",
    "    elif kind == 'item':\n",
    "        \n",
    "        dot = ratings.T.dot(ratings) + precision\n",
    "    \n",
    "    norms = np.array([np.sqrt(np.diagonal(dot))])\n",
    "    \n",
    "    return (dot / norms / norms.T)"
   ]
  },
  {
   "cell_type": "code",
   "execution_count": 171,
   "id": "2c70b512-8972-42a6-88c7-d9fbab33773c",
   "metadata": {},
   "outputs": [],
   "source": [
    "def train_test_split(M):\n",
    "    \n",
    "    train = M.copy()\n",
    "    test = np.zeros((M.shape[0], M.shape[1]))\n",
    "    \n",
    "    for user in np.arange(M.shape[0]):\n",
    "        \n",
    "        test_ratings = np.random.choice( M[user, :].nonzero()[0], size = 10, replace = False)\n",
    "        \n",
    "        train[user, test_ratings] = 0\n",
    "        test[user, test_ratings] = M[user, test_ratings]\n",
    "        \n",
    "        assert(np.all((train * test) == 0))\n",
    "        \n",
    "        return train, test"
   ]
  },
  {
   "cell_type": "markdown",
   "id": "6ba352c0-baf4-4a17-9c73-b17df03993b7",
   "metadata": {},
   "source": [
    "## Imports "
   ]
  },
  {
   "cell_type": "code",
   "execution_count": 161,
   "id": "b58be7af-78a3-47ae-8ed3-55de779f6e99",
   "metadata": {},
   "outputs": [],
   "source": [
    "import numpy as np"
   ]
  },
  {
   "cell_type": "code",
   "execution_count": 162,
   "id": "99155d40-7c32-4e2b-b1fe-c33c14f1d55a",
   "metadata": {},
   "outputs": [],
   "source": [
    "import pandas as pd"
   ]
  },
  {
   "cell_type": "code",
   "execution_count": 163,
   "id": "5e5231e8-26c0-4de8-9f3d-a5832fa544b8",
   "metadata": {},
   "outputs": [],
   "source": [
    "import zipfile"
   ]
  },
  {
   "cell_type": "code",
   "execution_count": 164,
   "id": "db6494f5-e33b-421c-ac6e-3456c7d8f331",
   "metadata": {},
   "outputs": [],
   "source": [
    "from sklearn.metrics import mean_squared_error"
   ]
  },
  {
   "cell_type": "code",
   "execution_count": 165,
   "id": "a79dc5e9-e23e-4ea4-92a7-8e1878f6ad16",
   "metadata": {},
   "outputs": [],
   "source": [
    "import matplotlib.pyplot as plt"
   ]
  },
  {
   "cell_type": "code",
   "execution_count": 166,
   "id": "877bbc0a-f162-40fe-b2b0-bdc75c7fda22",
   "metadata": {},
   "outputs": [],
   "source": [
    "import seaborn as sns"
   ]
  },
  {
   "cell_type": "code",
   "execution_count": null,
   "id": "f0313029-eb00-4804-bee9-85327f6f08f1",
   "metadata": {},
   "outputs": [],
   "source": []
  }
 ],
 "metadata": {
  "kernelspec": {
   "display_name": "Python 3",
   "language": "python",
   "name": "python3"
  },
  "language_info": {
   "codemirror_mode": {
    "name": "ipython",
    "version": 3
   },
   "file_extension": ".py",
   "mimetype": "text/x-python",
   "name": "python",
   "nbconvert_exporter": "python",
   "pygments_lexer": "ipython3",
   "version": "3.8.8"
  }
 },
 "nbformat": 4,
 "nbformat_minor": 5
}
